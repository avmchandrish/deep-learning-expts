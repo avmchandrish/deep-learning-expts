{
 "cells": [
  {
   "cell_type": "code",
   "execution_count": 3,
   "id": "9fae95c6",
   "metadata": {},
   "outputs": [],
   "source": [
    "import torch\n",
    "import torch.nn as nn\n",
    "import torch.nn.functional as F\n",
    "from skimage import io"
   ]
  },
  {
   "cell_type": "code",
   "execution_count": 12,
   "id": "822cf46d",
   "metadata": {},
   "outputs": [],
   "source": [
    "img_arr = io.imread('data/img.tif')"
   ]
  },
  {
   "cell_type": "code",
   "execution_count": 13,
   "id": "65adcd2e",
   "metadata": {},
   "outputs": [
    {
     "data": {
      "text/plain": [
       "torch.Size([1, 1, 128, 128])"
      ]
     },
     "execution_count": 13,
     "metadata": {},
     "output_type": "execute_result"
    }
   ],
   "source": [
    "img_t = torch.tensor(img_arr, dtype = torch.float32)\n",
    "img_t = torch.unsqueeze(torch.unsqueeze(img_t, 0), 0)\n",
    "img_t.shape"
   ]
  },
  {
   "cell_type": "markdown",
   "id": "eec07b1a",
   "metadata": {},
   "source": [
    "Convolution"
   ]
  },
  {
   "cell_type": "code",
   "execution_count": 14,
   "id": "b495ed67",
   "metadata": {},
   "outputs": [],
   "source": [
    "conv3 = nn.Conv2d(in_channels= 1, out_channels=64, kernel_size=7, stride=2, padding=3)"
   ]
  },
  {
   "cell_type": "code",
   "execution_count": 15,
   "id": "9ac05b45",
   "metadata": {
    "scrolled": true
   },
   "outputs": [
    {
     "data": {
      "text/plain": [
       "torch.Size([1, 64, 64, 64])"
      ]
     },
     "execution_count": 15,
     "metadata": {},
     "output_type": "execute_result"
    }
   ],
   "source": [
    "out1 = conv3(img_t)\n",
    "out1.shape"
   ]
  },
  {
   "cell_type": "markdown",
   "id": "a9223271",
   "metadata": {},
   "source": [
    "Output Size = (Input Size + 2 * padding - Kernel Size)/Stride + 1"
   ]
  },
  {
   "cell_type": "markdown",
   "id": "5f757fde",
   "metadata": {},
   "source": [
    "Batch Norm"
   ]
  },
  {
   "cell_type": "code",
   "execution_count": 16,
   "id": "b2181d57",
   "metadata": {},
   "outputs": [
    {
     "data": {
      "text/plain": [
       "torch.Size([1, 64, 64, 64])"
      ]
     },
     "execution_count": 16,
     "metadata": {},
     "output_type": "execute_result"
    }
   ],
   "source": [
    "bn = nn.BatchNorm2d(num_features= 64)\n",
    "out2 = bn(out1)\n",
    "out2.shape"
   ]
  },
  {
   "cell_type": "markdown",
   "id": "a741a117",
   "metadata": {},
   "source": [
    "Relu"
   ]
  },
  {
   "cell_type": "code",
   "execution_count": 17,
   "id": "828b7b96",
   "metadata": {},
   "outputs": [
    {
     "data": {
      "text/plain": [
       "torch.Size([1, 64, 64, 64])"
      ]
     },
     "execution_count": 17,
     "metadata": {},
     "output_type": "execute_result"
    }
   ],
   "source": [
    "out3 = F.relu(out2)\n",
    "out3.shape"
   ]
  },
  {
   "cell_type": "code",
   "execution_count": 71,
   "id": "12d78030",
   "metadata": {},
   "outputs": [
    {
     "data": {
      "text/plain": [
       "Sequential(\n",
       "  (0): Conv2d(64, 64, kernel_size=(3, 3), stride=(1, 1), padding=(1, 1))\n",
       "  (1): BatchNorm2d(64, eps=1e-05, momentum=0.1, affine=True, track_running_stats=True)\n",
       "  (2): ReLU()\n",
       ")"
      ]
     },
     "execution_count": 71,
     "metadata": {},
     "output_type": "execute_result"
    }
   ],
   "source": [
    "block = nn.Sequential(\n",
    "    nn.Conv2d(64, 64, kernel_size= 3, stride = 1, padding = 1),\n",
    "    nn.BatchNorm2d(num_features = 64),\n",
    "    nn.ReLU())\n",
    "block"
   ]
  },
  {
   "cell_type": "code",
   "execution_count": 69,
   "id": "3f3c5e27",
   "metadata": {},
   "outputs": [
    {
     "data": {
      "text/plain": [
       "torch.Size([1, 64, 64, 64])"
      ]
     },
     "execution_count": 69,
     "metadata": {},
     "output_type": "execute_result"
    }
   ],
   "source": [
    "out4 = block(out3)\n",
    "out5 = block(out)\n",
    "out4.shape"
   ]
  },
  {
   "cell_type": "markdown",
   "id": "3fb5d4a3",
   "metadata": {},
   "source": [
    "First Block"
   ]
  },
  {
   "cell_type": "code",
   "execution_count": null,
   "id": "bb9df906",
   "metadata": {},
   "outputs": [],
   "source": []
  },
  {
   "cell_type": "code",
   "execution_count": null,
   "id": "41d140fe",
   "metadata": {},
   "outputs": [],
   "source": []
  },
  {
   "cell_type": "markdown",
   "id": "3a1f5f60",
   "metadata": {},
   "source": [
    "Resnet Block 1"
   ]
  },
  {
   "cell_type": "code",
   "execution_count": 23,
   "id": "9cf801e1",
   "metadata": {},
   "outputs": [],
   "source": [
    "class ResBlock1(nn.Module):\n",
    "    def __init__(self, channels):\n",
    "        super(ResBlock1, self).__init__()\n",
    "        self.channels = channels\n",
    "        self.conv1 = nn.Conv2d(channels, channels, kernel_size = 3, stride = 1, padding = 1)\n",
    "        self.bn1 = nn.BatchNorm2d(num_features = channels)\n",
    "        self.relu1 = nn.ReLU()\n",
    "        self.conv2 = nn.Conv2d(channels, channels, kernel_size = 3, stride = 1, padding = 1)\n",
    "        self.bn2 = nn.BatchNorm2d(num_features = channels)\n",
    "        \n",
    "    def forward(self, in_img):\n",
    "        print(f'Input Shape {in_img.shape}')\n",
    "        conv1_out = self.conv1(in_img)\n",
    "        bn1_out = self.bn1(conv1_out)\n",
    "        relu1_out = self.relu1(bn1_out)\n",
    "        conv2_out = self.conv2(relu1_out)\n",
    "        bn2_out = self.bn2(conv2_out)\n",
    "        print(f'Output Shape {bn2_out.shape}')\n",
    "        return in_img + bn2_out "
   ]
  },
  {
   "cell_type": "code",
   "execution_count": 24,
   "id": "fff5ed30",
   "metadata": {
    "scrolled": true
   },
   "outputs": [],
   "source": [
    "x = nn.Sequential(ResBlock1(64), ResBlock1(64), ResBlock1(64))"
   ]
  },
  {
   "cell_type": "code",
   "execution_count": 25,
   "id": "05abc83f",
   "metadata": {
    "scrolled": true
   },
   "outputs": [
    {
     "name": "stdout",
     "output_type": "stream",
     "text": [
      "Input Shape torch.Size([1, 64, 64, 64])\n",
      "Output Shape torch.Size([1, 64, 64, 64])\n"
     ]
    },
    {
     "data": {
      "text/plain": [
       "tensor([[[[ 0.7267, -0.2145,  0.4249,  ...,  0.8096,  0.6146,  0.1677],\n",
       "          [ 0.2961,  0.0138,  0.1225,  ..., -0.2746,  0.3270,  0.0802],\n",
       "          [ 1.1301,  0.1682, -0.6960,  ..., -0.9332, -0.2819,  0.2115],\n",
       "          ...,\n",
       "          [ 1.4692,  0.7054,  0.5997,  ...,  1.1866,  2.1095,  1.3435],\n",
       "          [ 0.6519,  0.3783,  0.0155,  ...,  2.6122,  0.8732, -0.3146],\n",
       "          [ 0.7320,  0.0673, -0.0047,  ...,  1.4980,  0.7517,  1.0803]],\n",
       "\n",
       "         [[-0.1001,  0.6632,  0.2594,  ...,  0.0464,  0.5624,  0.1798],\n",
       "          [-0.4820, -0.3353, -0.7902,  ..., -1.2012, -0.8175,  0.1098],\n",
       "          [-0.6177,  0.4522, -0.9794,  ...,  0.5348, -1.0610, -0.0217],\n",
       "          ...,\n",
       "          [-0.1703,  0.9836, -0.1918,  ...,  0.0106,  0.0937,  1.3526],\n",
       "          [-0.9071, -0.6552, -1.3168,  ...,  0.0098, -0.1875,  0.9162],\n",
       "          [-0.2208,  0.7930, -0.2990,  ..., -0.0790, -1.4570, -0.8082]],\n",
       "\n",
       "         [[-0.3207, -0.4826, -0.0786,  ..., -1.1759,  0.1550, -0.4832],\n",
       "          [-0.2864,  0.3466, -0.6599,  ...,  0.1554, -0.6754,  0.0571],\n",
       "          [-0.4662,  0.5080,  0.2708,  ..., -0.5089, -0.9335,  0.4627],\n",
       "          ...,\n",
       "          [-0.5332,  0.9076, -0.9795,  ...,  2.1770,  3.5120, -0.6481],\n",
       "          [ 0.3351, -0.2233,  0.2974,  ...,  1.4398, -0.1556, -0.2626],\n",
       "          [ 0.2850, -0.2612, -0.6980,  ..., -0.2241, -0.2767,  0.6206]],\n",
       "\n",
       "         ...,\n",
       "\n",
       "         [[ 0.8637,  0.5939,  0.4289,  ...,  1.6772,  1.2073,  0.9670],\n",
       "          [ 0.5881,  0.3292,  1.0589,  ...,  0.1134,  1.1018,  0.8650],\n",
       "          [ 0.8085,  0.7885,  0.5951,  ...,  0.8030,  0.1868,  0.1798],\n",
       "          ...,\n",
       "          [ 0.8691, -0.2139,  1.9980,  ..., -0.3166, -3.0216,  0.4985],\n",
       "          [ 0.5738,  0.4205,  0.9503,  ..., -0.9384, -1.7509,  0.0551],\n",
       "          [ 0.3490, -0.3304,  0.3398,  ...,  0.1549,  0.7383,  1.1906]],\n",
       "\n",
       "         [[-0.0614, -0.6312,  0.0106,  ...,  0.5617,  0.9534,  0.9283],\n",
       "          [ 0.4030,  0.7487,  0.3979,  ...,  2.0596,  0.6314,  0.2045],\n",
       "          [ 0.4339, -0.1141,  0.2684,  ...,  1.4483, -1.0520, -1.0865],\n",
       "          ...,\n",
       "          [ 0.6438,  0.3115,  1.0239,  ...,  0.0581,  0.8587,  1.0986],\n",
       "          [ 0.6193, -0.0300,  0.0564,  ...,  0.5610,  0.8626,  1.0672],\n",
       "          [ 0.5149,  1.3956,  1.3668,  ...,  0.7307,  0.8020,  2.1481]],\n",
       "\n",
       "         [[ 1.4449,  1.3572,  1.1881,  ..., -1.5845, -0.0191,  0.4596],\n",
       "          [ 0.1559, -0.3551,  0.2810,  ...,  0.0402,  0.0601,  0.7465],\n",
       "          [ 0.7425,  0.8551,  0.2915,  ...,  0.6593,  0.3731,  0.1079],\n",
       "          ...,\n",
       "          [ 0.2621,  0.2159, -0.6058,  ..., -1.0504,  0.0891,  2.9863],\n",
       "          [ 0.9634,  0.4059, -0.2394,  ..., -1.5179,  0.4544,  1.0238],\n",
       "          [ 0.4269,  0.2295,  0.6445,  ...,  0.3678,  0.0814,  1.4526]]]],\n",
       "       grad_fn=<AddBackward0>)"
      ]
     },
     "execution_count": 25,
     "metadata": {},
     "output_type": "execute_result"
    }
   ],
   "source": [
    "x = ResBlock1(64)\n",
    "x(out3)"
   ]
  },
  {
   "cell_type": "code",
   "execution_count": 9,
   "id": "86d7fd6b",
   "metadata": {},
   "outputs": [
    {
     "data": {
      "text/plain": [
       "ResBlock1(\n",
       "  (conv1): Conv2d(64, 64, kernel_size=(3, 3), stride=(1, 1), padding=(1, 1))\n",
       "  (bn1): BatchNorm2d(64, eps=1e-05, momentum=0.1, affine=True, track_running_stats=True)\n",
       "  (relu1): ReLU()\n",
       "  (conv2): Conv2d(64, 64, kernel_size=(3, 3), stride=(1, 1), padding=(1, 1))\n",
       "  (bn2): BatchNorm2d(64, eps=1e-05, momentum=0.1, affine=True, track_running_stats=True)\n",
       ")"
      ]
     },
     "execution_count": 9,
     "metadata": {},
     "output_type": "execute_result"
    }
   ],
   "source": [
    "x"
   ]
  },
  {
   "cell_type": "markdown",
   "id": "811b4397",
   "metadata": {},
   "source": [
    "Connection Block"
   ]
  },
  {
   "cell_type": "code",
   "execution_count": 59,
   "id": "71b29206",
   "metadata": {},
   "outputs": [],
   "source": [
    "class ConnBlock(nn.Module):\n",
    "    def __init__(self, channels_in, channels_out):\n",
    "        super(ConnBlock, self).__init__()\n",
    "        self.in_c = channels_in\n",
    "        self.out_c = channels_out\n",
    "        self.conv1 = nn.Conv2d(channels_in, channels_out, kernel_size = 3, stride = 2, padding = 1)\n",
    "        self.bn1 = nn.BatchNorm2d(num_features = channels_out)\n",
    "        self.relu = nn.ReLU()\n",
    "        self.conv2 = nn.Conv2d(channels_out, channels_out, kernel_size = 3, stride = 1, padding = 1)\n",
    "        self.bn2 = nn.BatchNorm2d(num_features = channels_out)\n",
    "        self.downsample = nn.Conv2d(channels_in, channels_out, kernel_size = 1, stride = 2)\n",
    "        \n",
    "    def forward(self, x):\n",
    "        conv1_out = self.conv1(x)\n",
    "        bn1_out = self.bn1(conv1_out)\n",
    "        relu1_out = self.relu(bn1_out)\n",
    "        conv2_out = self.conv2(relu1_out)\n",
    "        bn2_out = self.bn2(conv2_out)\n",
    "        x_downsample = self.downsample(x)\n",
    "        out = self.relu(bn2_out + x_downsample)\n",
    "        return out"
   ]
  },
  {
   "cell_type": "code",
   "execution_count": 60,
   "id": "c67e9ae0",
   "metadata": {
    "scrolled": true
   },
   "outputs": [
    {
     "data": {
      "text/plain": [
       "ConnBlock(\n",
       "  (conv1): Conv2d(64, 128, kernel_size=(3, 3), stride=(2, 2), padding=(1, 1))\n",
       "  (bn1): BatchNorm2d(128, eps=1e-05, momentum=0.1, affine=True, track_running_stats=True)\n",
       "  (relu): ReLU()\n",
       "  (conv2): Conv2d(128, 128, kernel_size=(3, 3), stride=(1, 1), padding=(1, 1))\n",
       "  (bn2): BatchNorm2d(128, eps=1e-05, momentum=0.1, affine=True, track_running_stats=True)\n",
       "  (downsample): Conv2d(64, 128, kernel_size=(1, 1), stride=(2, 2))\n",
       ")"
      ]
     },
     "execution_count": 60,
     "metadata": {},
     "output_type": "execute_result"
    }
   ],
   "source": [
    "x1 = ConnBlock(64, 128)\n",
    "x1"
   ]
  },
  {
   "cell_type": "code",
   "execution_count": 61,
   "id": "d80564d6",
   "metadata": {
    "scrolled": true
   },
   "outputs": [
    {
     "name": "stdout",
     "output_type": "stream",
     "text": [
      "Input Shape torch.Size([1, 64, 64, 64])\n",
      "Output Shape torch.Size([1, 64, 64, 64])\n"
     ]
    },
    {
     "data": {
      "text/plain": [
       "torch.Size([1, 128, 32, 32])"
      ]
     },
     "execution_count": 61,
     "metadata": {},
     "output_type": "execute_result"
    }
   ],
   "source": [
    "x1(x(out3)).shape"
   ]
  },
  {
   "cell_type": "code",
   "execution_count": 53,
   "id": "d0710bdd",
   "metadata": {},
   "outputs": [],
   "source": [
    "conv1x1 = nn.Conv2d(64, 128, kernel_size = 1, stride = 2)"
   ]
  },
  {
   "cell_type": "code",
   "execution_count": 43,
   "id": "6ff7ae12",
   "metadata": {},
   "outputs": [
    {
     "data": {
      "text/plain": [
       "torch.Size([1, 128, 32, 32])"
      ]
     },
     "execution_count": 43,
     "metadata": {},
     "output_type": "execute_result"
    }
   ],
   "source": [
    "conv1x1(out3).shape"
   ]
  },
  {
   "cell_type": "markdown",
   "id": "e1f842b5",
   "metadata": {},
   "source": [
    "Joining all of this, by simple basic "
   ]
  },
  {
   "cell_type": "code",
   "execution_count": null,
   "id": "a39c0e61",
   "metadata": {},
   "outputs": [],
   "source": []
  },
  {
   "cell_type": "code",
   "execution_count": null,
   "id": "8bec7fe4",
   "metadata": {},
   "outputs": [],
   "source": []
  },
  {
   "cell_type": "code",
   "execution_count": null,
   "id": "eadd9d39",
   "metadata": {},
   "outputs": [],
   "source": []
  },
  {
   "cell_type": "code",
   "execution_count": null,
   "id": "1630c547",
   "metadata": {},
   "outputs": [],
   "source": []
  },
  {
   "cell_type": "code",
   "execution_count": null,
   "id": "190614c6",
   "metadata": {},
   "outputs": [],
   "source": []
  }
 ],
 "metadata": {
  "kernelspec": {
   "display_name": "Python 3 (ipykernel)",
   "language": "python",
   "name": "python3"
  },
  "language_info": {
   "codemirror_mode": {
    "name": "ipython",
    "version": 3
   },
   "file_extension": ".py",
   "mimetype": "text/x-python",
   "name": "python",
   "nbconvert_exporter": "python",
   "pygments_lexer": "ipython3",
   "version": "3.9.7"
  }
 },
 "nbformat": 4,
 "nbformat_minor": 5
}
