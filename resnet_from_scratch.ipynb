{
 "cells": [
  {
   "cell_type": "code",
   "execution_count": 3,
   "id": "9fae95c6",
   "metadata": {},
   "outputs": [],
   "source": [
    "import torch\n",
    "import torch.nn as nn\n",
    "import torch.nn.functional as F\n",
    "from skimage import io"
   ]
  },
  {
   "cell_type": "code",
   "execution_count": 12,
   "id": "822cf46d",
   "metadata": {},
   "outputs": [],
   "source": [
    "img_arr = io.imread('data/img.tif')"
   ]
  },
  {
   "cell_type": "code",
   "execution_count": 13,
   "id": "65adcd2e",
   "metadata": {},
   "outputs": [
    {
     "data": {
      "text/plain": [
       "torch.Size([1, 1, 128, 128])"
      ]
     },
     "execution_count": 13,
     "metadata": {},
     "output_type": "execute_result"
    }
   ],
   "source": [
    "img_t = torch.tensor(img_arr, dtype = torch.float32)\n",
    "img_t = torch.unsqueeze(torch.unsqueeze(img_t, 0), 0)\n",
    "img_t.shape"
   ]
  },
  {
   "cell_type": "markdown",
   "id": "eec07b1a",
   "metadata": {},
   "source": [
    "Convolution"
   ]
  },
  {
   "cell_type": "code",
   "execution_count": 105,
   "id": "b495ed67",
   "metadata": {},
   "outputs": [
    {
     "name": "stdout",
     "output_type": "stream",
     "text": [
      "torch.Size([1, 64, 64, 64])\n",
      "torch.Size([1, 64, 64, 64])\n"
     ]
    },
    {
     "data": {
      "text/plain": [
       "torch.Size([1, 64, 64, 64])"
      ]
     },
     "execution_count": 105,
     "metadata": {},
     "output_type": "execute_result"
    }
   ],
   "source": [
    "conv3 = nn.Conv2d(in_channels= 1, out_channels=64, kernel_size=7, stride=2, padding=3)\n",
    "out1 = conv3(img_t)\n",
    "print(out1.shape)\n",
    "\n",
    "bn = nn.BatchNorm2d(num_features= 64)\n",
    "out2 = bn(out1)\n",
    "print(out2.shape)\n",
    "\n",
    "out3 = F.relu(out2)\n",
    "out3.shape"
   ]
  },
  {
   "cell_type": "code",
   "execution_count": 15,
   "id": "9ac05b45",
   "metadata": {
    "scrolled": true
   },
   "outputs": [
    {
     "data": {
      "text/plain": [
       "torch.Size([1, 64, 64, 64])"
      ]
     },
     "execution_count": 15,
     "metadata": {},
     "output_type": "execute_result"
    }
   ],
   "source": []
  },
  {
   "cell_type": "markdown",
   "id": "a9223271",
   "metadata": {},
   "source": [
    "Output Size = (Input Size + 2 * padding - Kernel Size)/Stride + 1"
   ]
  },
  {
   "cell_type": "markdown",
   "id": "5f757fde",
   "metadata": {},
   "source": [
    "Batch Norm"
   ]
  },
  {
   "cell_type": "code",
   "execution_count": 16,
   "id": "b2181d57",
   "metadata": {},
   "outputs": [
    {
     "data": {
      "text/plain": [
       "torch.Size([1, 64, 64, 64])"
      ]
     },
     "execution_count": 16,
     "metadata": {},
     "output_type": "execute_result"
    }
   ],
   "source": []
  },
  {
   "cell_type": "markdown",
   "id": "a741a117",
   "metadata": {},
   "source": [
    "Relu"
   ]
  },
  {
   "cell_type": "code",
   "execution_count": 17,
   "id": "828b7b96",
   "metadata": {},
   "outputs": [
    {
     "data": {
      "text/plain": [
       "torch.Size([1, 64, 64, 64])"
      ]
     },
     "execution_count": 17,
     "metadata": {},
     "output_type": "execute_result"
    }
   ],
   "source": []
  },
  {
   "cell_type": "code",
   "execution_count": 71,
   "id": "12d78030",
   "metadata": {},
   "outputs": [
    {
     "data": {
      "text/plain": [
       "Sequential(\n",
       "  (0): Conv2d(64, 64, kernel_size=(3, 3), stride=(1, 1), padding=(1, 1))\n",
       "  (1): BatchNorm2d(64, eps=1e-05, momentum=0.1, affine=True, track_running_stats=True)\n",
       "  (2): ReLU()\n",
       ")"
      ]
     },
     "execution_count": 71,
     "metadata": {},
     "output_type": "execute_result"
    }
   ],
   "source": [
    "block = nn.Sequential(\n",
    "    nn.Conv2d(64, 64, kernel_size= 3, stride = 1, padding = 1),\n",
    "    nn.BatchNorm2d(num_features = 64),\n",
    "    nn.ReLU())\n",
    "block"
   ]
  },
  {
   "cell_type": "code",
   "execution_count": 69,
   "id": "3f3c5e27",
   "metadata": {},
   "outputs": [
    {
     "data": {
      "text/plain": [
       "torch.Size([1, 64, 64, 64])"
      ]
     },
     "execution_count": 69,
     "metadata": {},
     "output_type": "execute_result"
    }
   ],
   "source": [
    "out4 = block(out3)\n",
    "out5 = block(out)\n",
    "out4.shape"
   ]
  },
  {
   "cell_type": "markdown",
   "id": "3fb5d4a3",
   "metadata": {},
   "source": [
    "First Block"
   ]
  },
  {
   "cell_type": "code",
   "execution_count": null,
   "id": "bb9df906",
   "metadata": {},
   "outputs": [],
   "source": []
  },
  {
   "cell_type": "code",
   "execution_count": null,
   "id": "41d140fe",
   "metadata": {},
   "outputs": [],
   "source": []
  },
  {
   "cell_type": "markdown",
   "id": "3a1f5f60",
   "metadata": {},
   "source": [
    "Resnet Block 1"
   ]
  },
  {
   "cell_type": "code",
   "execution_count": 23,
   "id": "9cf801e1",
   "metadata": {},
   "outputs": [],
   "source": [
    "class ResBlock1(nn.Module):\n",
    "    def __init__(self, channels):\n",
    "        super(ResBlock1, self).__init__()\n",
    "        self.channels = channels\n",
    "        self.conv1 = nn.Conv2d(channels, channels, kernel_size = 3, stride = 1, padding = 1)\n",
    "        self.bn1 = nn.BatchNorm2d(num_features = channels)\n",
    "        self.relu1 = nn.ReLU()\n",
    "        self.conv2 = nn.Conv2d(channels, channels, kernel_size = 3, stride = 1, padding = 1)\n",
    "        self.bn2 = nn.BatchNorm2d(num_features = channels)\n",
    "        \n",
    "    def forward(self, in_img):\n",
    "        print(f'Input Shape {in_img.shape}')\n",
    "        conv1_out = self.conv1(in_img)\n",
    "        bn1_out = self.bn1(conv1_out)\n",
    "        relu1_out = self.relu1(bn1_out)\n",
    "        conv2_out = self.conv2(relu1_out)\n",
    "        bn2_out = self.bn2(conv2_out)\n",
    "        print(f'Output Shape {bn2_out.shape}')\n",
    "        return in_img + bn2_out "
   ]
  },
  {
   "cell_type": "code",
   "execution_count": 24,
   "id": "fff5ed30",
   "metadata": {
    "scrolled": true
   },
   "outputs": [],
   "source": [
    "x = nn.Sequential(ResBlock1(64), ResBlock1(64), ResBlock1(64))"
   ]
  },
  {
   "cell_type": "code",
   "execution_count": 25,
   "id": "05abc83f",
   "metadata": {
    "scrolled": true
   },
   "outputs": [
    {
     "name": "stdout",
     "output_type": "stream",
     "text": [
      "Input Shape torch.Size([1, 64, 64, 64])\n",
      "Output Shape torch.Size([1, 64, 64, 64])\n"
     ]
    },
    {
     "data": {
      "text/plain": [
       "tensor([[[[ 0.7267, -0.2145,  0.4249,  ...,  0.8096,  0.6146,  0.1677],\n",
       "          [ 0.2961,  0.0138,  0.1225,  ..., -0.2746,  0.3270,  0.0802],\n",
       "          [ 1.1301,  0.1682, -0.6960,  ..., -0.9332, -0.2819,  0.2115],\n",
       "          ...,\n",
       "          [ 1.4692,  0.7054,  0.5997,  ...,  1.1866,  2.1095,  1.3435],\n",
       "          [ 0.6519,  0.3783,  0.0155,  ...,  2.6122,  0.8732, -0.3146],\n",
       "          [ 0.7320,  0.0673, -0.0047,  ...,  1.4980,  0.7517,  1.0803]],\n",
       "\n",
       "         [[-0.1001,  0.6632,  0.2594,  ...,  0.0464,  0.5624,  0.1798],\n",
       "          [-0.4820, -0.3353, -0.7902,  ..., -1.2012, -0.8175,  0.1098],\n",
       "          [-0.6177,  0.4522, -0.9794,  ...,  0.5348, -1.0610, -0.0217],\n",
       "          ...,\n",
       "          [-0.1703,  0.9836, -0.1918,  ...,  0.0106,  0.0937,  1.3526],\n",
       "          [-0.9071, -0.6552, -1.3168,  ...,  0.0098, -0.1875,  0.9162],\n",
       "          [-0.2208,  0.7930, -0.2990,  ..., -0.0790, -1.4570, -0.8082]],\n",
       "\n",
       "         [[-0.3207, -0.4826, -0.0786,  ..., -1.1759,  0.1550, -0.4832],\n",
       "          [-0.2864,  0.3466, -0.6599,  ...,  0.1554, -0.6754,  0.0571],\n",
       "          [-0.4662,  0.5080,  0.2708,  ..., -0.5089, -0.9335,  0.4627],\n",
       "          ...,\n",
       "          [-0.5332,  0.9076, -0.9795,  ...,  2.1770,  3.5120, -0.6481],\n",
       "          [ 0.3351, -0.2233,  0.2974,  ...,  1.4398, -0.1556, -0.2626],\n",
       "          [ 0.2850, -0.2612, -0.6980,  ..., -0.2241, -0.2767,  0.6206]],\n",
       "\n",
       "         ...,\n",
       "\n",
       "         [[ 0.8637,  0.5939,  0.4289,  ...,  1.6772,  1.2073,  0.9670],\n",
       "          [ 0.5881,  0.3292,  1.0589,  ...,  0.1134,  1.1018,  0.8650],\n",
       "          [ 0.8085,  0.7885,  0.5951,  ...,  0.8030,  0.1868,  0.1798],\n",
       "          ...,\n",
       "          [ 0.8691, -0.2139,  1.9980,  ..., -0.3166, -3.0216,  0.4985],\n",
       "          [ 0.5738,  0.4205,  0.9503,  ..., -0.9384, -1.7509,  0.0551],\n",
       "          [ 0.3490, -0.3304,  0.3398,  ...,  0.1549,  0.7383,  1.1906]],\n",
       "\n",
       "         [[-0.0614, -0.6312,  0.0106,  ...,  0.5617,  0.9534,  0.9283],\n",
       "          [ 0.4030,  0.7487,  0.3979,  ...,  2.0596,  0.6314,  0.2045],\n",
       "          [ 0.4339, -0.1141,  0.2684,  ...,  1.4483, -1.0520, -1.0865],\n",
       "          ...,\n",
       "          [ 0.6438,  0.3115,  1.0239,  ...,  0.0581,  0.8587,  1.0986],\n",
       "          [ 0.6193, -0.0300,  0.0564,  ...,  0.5610,  0.8626,  1.0672],\n",
       "          [ 0.5149,  1.3956,  1.3668,  ...,  0.7307,  0.8020,  2.1481]],\n",
       "\n",
       "         [[ 1.4449,  1.3572,  1.1881,  ..., -1.5845, -0.0191,  0.4596],\n",
       "          [ 0.1559, -0.3551,  0.2810,  ...,  0.0402,  0.0601,  0.7465],\n",
       "          [ 0.7425,  0.8551,  0.2915,  ...,  0.6593,  0.3731,  0.1079],\n",
       "          ...,\n",
       "          [ 0.2621,  0.2159, -0.6058,  ..., -1.0504,  0.0891,  2.9863],\n",
       "          [ 0.9634,  0.4059, -0.2394,  ..., -1.5179,  0.4544,  1.0238],\n",
       "          [ 0.4269,  0.2295,  0.6445,  ...,  0.3678,  0.0814,  1.4526]]]],\n",
       "       grad_fn=<AddBackward0>)"
      ]
     },
     "execution_count": 25,
     "metadata": {},
     "output_type": "execute_result"
    }
   ],
   "source": [
    "x = ResBlock1(64)\n",
    "x(out3)"
   ]
  },
  {
   "cell_type": "code",
   "execution_count": 9,
   "id": "86d7fd6b",
   "metadata": {},
   "outputs": [
    {
     "data": {
      "text/plain": [
       "ResBlock1(\n",
       "  (conv1): Conv2d(64, 64, kernel_size=(3, 3), stride=(1, 1), padding=(1, 1))\n",
       "  (bn1): BatchNorm2d(64, eps=1e-05, momentum=0.1, affine=True, track_running_stats=True)\n",
       "  (relu1): ReLU()\n",
       "  (conv2): Conv2d(64, 64, kernel_size=(3, 3), stride=(1, 1), padding=(1, 1))\n",
       "  (bn2): BatchNorm2d(64, eps=1e-05, momentum=0.1, affine=True, track_running_stats=True)\n",
       ")"
      ]
     },
     "execution_count": 9,
     "metadata": {},
     "output_type": "execute_result"
    }
   ],
   "source": [
    "x"
   ]
  },
  {
   "cell_type": "markdown",
   "id": "9e2f6931",
   "metadata": {},
   "source": [
    "Connection Block"
   ]
  },
  {
   "cell_type": "code",
   "execution_count": 59,
   "id": "c7de254c",
   "metadata": {},
   "outputs": [],
   "source": [
    "class ConnBlock(nn.Module):\n",
    "    def __init__(self, channels_in, channels_out):\n",
    "        super(ConnBlock, self).__init__()\n",
    "        self.in_c = channels_in\n",
    "        self.out_c = channels_out\n",
    "        self.conv1 = nn.Conv2d(channels_in, channels_out, kernel_size = 3, stride = 2, padding = 1)\n",
    "        self.bn1 = nn.BatchNorm2d(num_features = channels_out)\n",
    "        self.relu = nn.ReLU()\n",
    "        self.conv2 = nn.Conv2d(channels_out, channels_out, kernel_size = 3, stride = 1, padding = 1)\n",
    "        self.bn2 = nn.BatchNorm2d(num_features = channels_out)\n",
    "        self.downsample = nn.Conv2d(channels_in, channels_out, kernel_size = 1, stride = 2)\n",
    "        \n",
    "    def forward(self, x):\n",
    "        conv1_out = self.conv1(x)\n",
    "        bn1_out = self.bn1(conv1_out)\n",
    "        relu1_out = self.relu(bn1_out)\n",
    "        conv2_out = self.conv2(relu1_out)\n",
    "        bn2_out = self.bn2(conv2_out)\n",
    "        x_downsample = self.downsample(x)\n",
    "        out = self.relu(bn2_out + x_downsample)\n",
    "        return out"
   ]
  },
  {
   "cell_type": "code",
   "execution_count": 60,
   "id": "5e9084b4",
   "metadata": {
    "scrolled": true
   },
   "outputs": [
    {
     "data": {
      "text/plain": [
       "ConnBlock(\n",
       "  (conv1): Conv2d(64, 128, kernel_size=(3, 3), stride=(2, 2), padding=(1, 1))\n",
       "  (bn1): BatchNorm2d(128, eps=1e-05, momentum=0.1, affine=True, track_running_stats=True)\n",
       "  (relu): ReLU()\n",
       "  (conv2): Conv2d(128, 128, kernel_size=(3, 3), stride=(1, 1), padding=(1, 1))\n",
       "  (bn2): BatchNorm2d(128, eps=1e-05, momentum=0.1, affine=True, track_running_stats=True)\n",
       "  (downsample): Conv2d(64, 128, kernel_size=(1, 1), stride=(2, 2))\n",
       ")"
      ]
     },
     "execution_count": 60,
     "metadata": {},
     "output_type": "execute_result"
    }
   ],
   "source": [
    "x1 = ConnBlock(64, 128)\n",
    "x1"
   ]
  },
  {
   "cell_type": "code",
   "execution_count": 61,
   "id": "af60e849",
   "metadata": {
    "scrolled": true
   },
   "outputs": [
    {
     "name": "stdout",
     "output_type": "stream",
     "text": [
      "Input Shape torch.Size([1, 64, 64, 64])\n",
      "Output Shape torch.Size([1, 64, 64, 64])\n"
     ]
    },
    {
     "data": {
      "text/plain": [
       "torch.Size([1, 128, 32, 32])"
      ]
     },
     "execution_count": 61,
     "metadata": {},
     "output_type": "execute_result"
    }
   ],
   "source": [
    "x1(x(out3)).shape"
   ]
  },
  {
   "cell_type": "code",
   "execution_count": 53,
   "id": "b3810484",
   "metadata": {},
   "outputs": [],
   "source": [
    "conv1x1 = nn.Conv2d(64, 128, kernel_size = 1, stride = 2)"
   ]
  },
  {
   "cell_type": "code",
   "execution_count": 43,
   "id": "6ff7ae12",
   "metadata": {},
   "outputs": [
    {
     "data": {
      "text/plain": [
       "torch.Size([1, 128, 32, 32])"
      ]
     },
     "execution_count": 43,
     "metadata": {},
     "output_type": "execute_result"
    }
   ],
   "source": [
    "conv1x1(out3).shape"
   ]
  },
  {
   "cell_type": "markdown",
   "id": "bb71a805",
   "metadata": {},
   "source": [
    "Joining all of this, by simple basic addition"
   ]
  },
  {
   "cell_type": "code",
   "execution_count": 70,
   "id": "ad3c4f27",
   "metadata": {},
   "outputs": [],
   "source": [
    "num_layers = [3, 4, 6, 3]"
   ]
  },
  {
   "cell_type": "code",
   "execution_count": 94,
   "id": "a702df3c",
   "metadata": {},
   "outputs": [],
   "source": [
    " def _make_layer(in_channels, out_channels, blocks):\n",
    "    layers = []\n",
    "    for block in range(blocks):\n",
    "        if in_channels != out_channels and block == 0:\n",
    "            layers.append(ConnBlock(in_channels, out_channels))\n",
    "        else:\n",
    "            layers.append(ResBlock1(out_channels))"
   ]
  },
  {
   "cell_type": "code",
   "execution_count": 92,
   "id": "d721532b",
   "metadata": {},
   "outputs": [],
   "source": [
    "blocks = num_layers[1]\n",
    "in_channels = 128\n",
    "out_channels = 256\n",
    "first_layer = False\n",
    "layers = []\n",
    "for block in range(blocks):\n",
    "    if in_channels != out_channels and block == 0:\n",
    "        layers.append(ConnBlock(in_channels, out_channels))\n",
    "    else:\n",
    "        layers.append(ResBlock1(out_channels))\n",
    "    "
   ]
  },
  {
   "cell_type": "code",
   "execution_count": 93,
   "id": "e52f7351",
   "metadata": {
    "scrolled": true
   },
   "outputs": [
    {
     "data": {
      "text/plain": [
       "[ConnBlock(\n",
       "   (conv1): Conv2d(128, 256, kernel_size=(3, 3), stride=(2, 2), padding=(1, 1))\n",
       "   (bn1): BatchNorm2d(256, eps=1e-05, momentum=0.1, affine=True, track_running_stats=True)\n",
       "   (relu): ReLU()\n",
       "   (conv2): Conv2d(256, 256, kernel_size=(3, 3), stride=(1, 1), padding=(1, 1))\n",
       "   (bn2): BatchNorm2d(256, eps=1e-05, momentum=0.1, affine=True, track_running_stats=True)\n",
       "   (downsample): Conv2d(128, 256, kernel_size=(1, 1), stride=(2, 2))\n",
       " ),\n",
       " ResBlock1(\n",
       "   (conv1): Conv2d(256, 256, kernel_size=(3, 3), stride=(1, 1), padding=(1, 1))\n",
       "   (bn1): BatchNorm2d(256, eps=1e-05, momentum=0.1, affine=True, track_running_stats=True)\n",
       "   (relu1): ReLU()\n",
       "   (conv2): Conv2d(256, 256, kernel_size=(3, 3), stride=(1, 1), padding=(1, 1))\n",
       "   (bn2): BatchNorm2d(256, eps=1e-05, momentum=0.1, affine=True, track_running_stats=True)\n",
       " ),\n",
       " ResBlock1(\n",
       "   (conv1): Conv2d(256, 256, kernel_size=(3, 3), stride=(1, 1), padding=(1, 1))\n",
       "   (bn1): BatchNorm2d(256, eps=1e-05, momentum=0.1, affine=True, track_running_stats=True)\n",
       "   (relu1): ReLU()\n",
       "   (conv2): Conv2d(256, 256, kernel_size=(3, 3), stride=(1, 1), padding=(1, 1))\n",
       "   (bn2): BatchNorm2d(256, eps=1e-05, momentum=0.1, affine=True, track_running_stats=True)\n",
       " ),\n",
       " ResBlock1(\n",
       "   (conv1): Conv2d(256, 256, kernel_size=(3, 3), stride=(1, 1), padding=(1, 1))\n",
       "   (bn1): BatchNorm2d(256, eps=1e-05, momentum=0.1, affine=True, track_running_stats=True)\n",
       "   (relu1): ReLU()\n",
       "   (conv2): Conv2d(256, 256, kernel_size=(3, 3), stride=(1, 1), padding=(1, 1))\n",
       "   (bn2): BatchNorm2d(256, eps=1e-05, momentum=0.1, affine=True, track_running_stats=True)\n",
       " )]"
      ]
     },
     "execution_count": 93,
     "metadata": {},
     "output_type": "execute_result"
    }
   ],
   "source": [
    "layers"
   ]
  },
  {
   "cell_type": "code",
   "execution_count": 86,
   "id": "bc177aaa",
   "metadata": {
    "scrolled": true
   },
   "outputs": [
    {
     "data": {
      "text/plain": [
       "Sequential(\n",
       "  (0): ConnBlock(\n",
       "    (conv1): Conv2d(128, 256, kernel_size=(3, 3), stride=(2, 2), padding=(1, 1))\n",
       "    (bn1): BatchNorm2d(256, eps=1e-05, momentum=0.1, affine=True, track_running_stats=True)\n",
       "    (relu): ReLU()\n",
       "    (conv2): Conv2d(256, 256, kernel_size=(3, 3), stride=(1, 1), padding=(1, 1))\n",
       "    (bn2): BatchNorm2d(256, eps=1e-05, momentum=0.1, affine=True, track_running_stats=True)\n",
       "    (downsample): Conv2d(128, 256, kernel_size=(1, 1), stride=(2, 2))\n",
       "  )\n",
       "  (1): ResBlock1(\n",
       "    (conv1): Conv2d(256, 256, kernel_size=(3, 3), stride=(1, 1), padding=(1, 1))\n",
       "    (bn1): BatchNorm2d(256, eps=1e-05, momentum=0.1, affine=True, track_running_stats=True)\n",
       "    (relu1): ReLU()\n",
       "    (conv2): Conv2d(256, 256, kernel_size=(3, 3), stride=(1, 1), padding=(1, 1))\n",
       "    (bn2): BatchNorm2d(256, eps=1e-05, momentum=0.1, affine=True, track_running_stats=True)\n",
       "  )\n",
       "  (2): ConnBlock(\n",
       "    (conv1): Conv2d(128, 256, kernel_size=(3, 3), stride=(2, 2), padding=(1, 1))\n",
       "    (bn1): BatchNorm2d(256, eps=1e-05, momentum=0.1, affine=True, track_running_stats=True)\n",
       "    (relu): ReLU()\n",
       "    (conv2): Conv2d(256, 256, kernel_size=(3, 3), stride=(1, 1), padding=(1, 1))\n",
       "    (bn2): BatchNorm2d(256, eps=1e-05, momentum=0.1, affine=True, track_running_stats=True)\n",
       "    (downsample): Conv2d(128, 256, kernel_size=(1, 1), stride=(2, 2))\n",
       "  )\n",
       "  (3): ResBlock1(\n",
       "    (conv1): Conv2d(256, 256, kernel_size=(3, 3), stride=(1, 1), padding=(1, 1))\n",
       "    (bn1): BatchNorm2d(256, eps=1e-05, momentum=0.1, affine=True, track_running_stats=True)\n",
       "    (relu1): ReLU()\n",
       "    (conv2): Conv2d(256, 256, kernel_size=(3, 3), stride=(1, 1), padding=(1, 1))\n",
       "    (bn2): BatchNorm2d(256, eps=1e-05, momentum=0.1, affine=True, track_running_stats=True)\n",
       "  )\n",
       "  (4): ConnBlock(\n",
       "    (conv1): Conv2d(128, 256, kernel_size=(3, 3), stride=(2, 2), padding=(1, 1))\n",
       "    (bn1): BatchNorm2d(256, eps=1e-05, momentum=0.1, affine=True, track_running_stats=True)\n",
       "    (relu): ReLU()\n",
       "    (conv2): Conv2d(256, 256, kernel_size=(3, 3), stride=(1, 1), padding=(1, 1))\n",
       "    (bn2): BatchNorm2d(256, eps=1e-05, momentum=0.1, affine=True, track_running_stats=True)\n",
       "    (downsample): Conv2d(128, 256, kernel_size=(1, 1), stride=(2, 2))\n",
       "  )\n",
       "  (5): ResBlock1(\n",
       "    (conv1): Conv2d(256, 256, kernel_size=(3, 3), stride=(1, 1), padding=(1, 1))\n",
       "    (bn1): BatchNorm2d(256, eps=1e-05, momentum=0.1, affine=True, track_running_stats=True)\n",
       "    (relu1): ReLU()\n",
       "    (conv2): Conv2d(256, 256, kernel_size=(3, 3), stride=(1, 1), padding=(1, 1))\n",
       "    (bn2): BatchNorm2d(256, eps=1e-05, momentum=0.1, affine=True, track_running_stats=True)\n",
       "  )\n",
       "  (6): ConnBlock(\n",
       "    (conv1): Conv2d(128, 256, kernel_size=(3, 3), stride=(2, 2), padding=(1, 1))\n",
       "    (bn1): BatchNorm2d(256, eps=1e-05, momentum=0.1, affine=True, track_running_stats=True)\n",
       "    (relu): ReLU()\n",
       "    (conv2): Conv2d(256, 256, kernel_size=(3, 3), stride=(1, 1), padding=(1, 1))\n",
       "    (bn2): BatchNorm2d(256, eps=1e-05, momentum=0.1, affine=True, track_running_stats=True)\n",
       "    (downsample): Conv2d(128, 256, kernel_size=(1, 1), stride=(2, 2))\n",
       "  )\n",
       "  (7): ResBlock1(\n",
       "    (conv1): Conv2d(256, 256, kernel_size=(3, 3), stride=(1, 1), padding=(1, 1))\n",
       "    (bn1): BatchNorm2d(256, eps=1e-05, momentum=0.1, affine=True, track_running_stats=True)\n",
       "    (relu1): ReLU()\n",
       "    (conv2): Conv2d(256, 256, kernel_size=(3, 3), stride=(1, 1), padding=(1, 1))\n",
       "    (bn2): BatchNorm2d(256, eps=1e-05, momentum=0.1, affine=True, track_running_stats=True)\n",
       "  )\n",
       ")"
      ]
     },
     "execution_count": 86,
     "metadata": {},
     "output_type": "execute_result"
    }
   ],
   "source": [
    "nn.Sequential(*layers)"
   ]
  },
  {
   "cell_type": "markdown",
   "id": "6498f3f8",
   "metadata": {},
   "source": [
    "### Complete ResNet"
   ]
  },
  {
   "cell_type": "code",
   "execution_count": 102,
   "id": "a88ba77c",
   "metadata": {},
   "outputs": [],
   "source": [
    "class ResBlock(nn.Module):\n",
    "    def __init__(self, channels):\n",
    "        super(ResBlock, self).__init__()\n",
    "        self.channels = channels\n",
    "        self.conv1 = nn.Conv2d(channels, channels, kernel_size = 3, stride = 1, padding = 1)\n",
    "        self.bn1 = nn.BatchNorm2d(num_features = channels)\n",
    "        self.relu = nn.ReLU()\n",
    "        self.conv2 = nn.Conv2d(channels, channels, kernel_size = 3, stride = 1, padding = 1)\n",
    "        self.bn2 = nn.BatchNorm2d(num_features = channels)\n",
    "        \n",
    "    def forward(self, x):\n",
    "#        print(f'Input Shape {in_img.shape}')\n",
    "        conv1_out = self.conv1(x)\n",
    "        bn1_out = self.bn1(conv1_out)\n",
    "        relu1_out = self.relu(bn1_out)\n",
    "        conv2_out = self.conv2(relu1_out)\n",
    "        bn2_out = self.bn2(conv2_out)\n",
    "#        print(f'Output Shape {bn2_out.shape}')\n",
    "        out = self.relu(bn2_out + x)\n",
    "        return out"
   ]
  },
  {
   "cell_type": "code",
   "execution_count": 103,
   "id": "44e6f8e2",
   "metadata": {},
   "outputs": [],
   "source": [
    "class ConnBlock(nn.Module):\n",
    "    def __init__(self, channels_in, channels_out):\n",
    "        super(ConnBlock, self).__init__()\n",
    "        self.in_c = channels_in\n",
    "        self.out_c = channels_out\n",
    "        self.conv1 = nn.Conv2d(channels_in, channels_out, kernel_size = 3, stride = 2, padding = 1)\n",
    "        self.bn1 = nn.BatchNorm2d(num_features = channels_out)\n",
    "        self.relu = nn.ReLU()\n",
    "        self.conv2 = nn.Conv2d(channels_out, channels_out, kernel_size = 3, stride = 1, padding = 1)\n",
    "        self.bn2 = nn.BatchNorm2d(num_features = channels_out)\n",
    "        self.downsample = nn.Conv2d(channels_in, channels_out, kernel_size = 1, stride = 2)\n",
    "        \n",
    "    def forward(self, x):\n",
    "        conv1_out = self.conv1(x)\n",
    "        bn1_out = self.bn1(conv1_out)\n",
    "        relu1_out = self.relu(bn1_out)\n",
    "        conv2_out = self.conv2(relu1_out)\n",
    "        bn2_out = self.bn2(conv2_out)\n",
    "        x_downsample = self.downsample(x)\n",
    "        out = self.relu(bn2_out + x_downsample)\n",
    "        return out"
   ]
  },
  {
   "cell_type": "code",
   "execution_count": 144,
   "id": "932f4a12",
   "metadata": {},
   "outputs": [],
   "source": [
    "class ResNet(nn.Module):\n",
    "    def __init__(self, num_layers, img_channels, num_classes):\n",
    "        super(ResNet, self).__init__()\n",
    "        \n",
    "        # initial image\n",
    "        self.conv = nn.Conv2d(in_channels= img_channels, out_channels=64, kernel_size=7, stride=2, padding=3)\n",
    "        self.bn = nn.BatchNorm2d(num_features= 64)\n",
    "        self.relu = nn.ReLU()\n",
    "        self.maxpool = nn.MaxPool2d(kernel_size = 3, stride = 2, padding = 1)\n",
    "        \n",
    "        # resnet layers\n",
    "        self.layer1 = self._make_layer(64, 64, num_layers[0])\n",
    "        self.layer2 = self._make_layer(64, 128, num_layers[1])\n",
    "        self.layer3 = self._make_layer(128, 256, num_layers[2])\n",
    "        self.layer4 = self._make_layer(256, 512, num_layers[3])\n",
    "        \n",
    "        # final layers\n",
    "        self.avgpool = nn.AdaptiveAvgPool2d((1, 1))\n",
    "        self.fc = nn.Linear(512 , num_classes)\n",
    "        \n",
    "    def _make_layer(self, in_channels, out_channels, blocks):\n",
    "        layers = []\n",
    "        for block in range(blocks):\n",
    "            if in_channels != out_channels and block == 0:\n",
    "                layers.append(ConnBlock(in_channels, out_channels))\n",
    "            else:\n",
    "                layers.append(ResBlock(out_channels))\n",
    "        return nn.Sequential(*layers)\n",
    "    \n",
    "    def forward(self, x):\n",
    "        x = self.conv(x)\n",
    "        x = self.bn(x)\n",
    "        x = self.relu(x)\n",
    "        x = self.maxpool(x)\n",
    "        \n",
    "        x = self.layer1(x)\n",
    "        x = self.layer2(x)\n",
    "        x = self.layer3(x)\n",
    "        x = self.layer4(x)   \n",
    "        \n",
    "        x = self.avgpool(x)\n",
    "        x = torch.flatten(x, 1)\n",
    "        x = self.fc(x)\n",
    "        return x"
   ]
  },
  {
   "cell_type": "code",
   "execution_count": 147,
   "id": "bef5cd65",
   "metadata": {
    "scrolled": true
   },
   "outputs": [],
   "source": [
    "num_layers = [3, 4, 6, 3]\n",
    "model = ResNet(num_layers, 3, 1000)"
   ]
  },
  {
   "cell_type": "code",
   "execution_count": 148,
   "id": "6ed793c5",
   "metadata": {
    "scrolled": true
   },
   "outputs": [],
   "source": [
    "from torchvision import models"
   ]
  },
  {
   "cell_type": "code",
   "execution_count": 150,
   "id": "306d7654",
   "metadata": {},
   "outputs": [],
   "source": [
    "pyt_resnet = models.resnet34()"
   ]
  },
  {
   "cell_type": "code",
   "execution_count": 154,
   "id": "cb124a34",
   "metadata": {},
   "outputs": [],
   "source": [
    "torch.save(pyt_resnet.state_dict(), 'resnet_weights.pth')"
   ]
  },
  {
   "cell_type": "code",
   "execution_count": 157,
   "id": "9a0e1384",
   "metadata": {
    "scrolled": true
   },
   "outputs": [
    {
     "ename": "RuntimeError",
     "evalue": "Error(s) in loading state_dict for ResNet:\n\tMissing key(s) in state_dict: \"conv.weight\", \"conv.bias\", \"bn.weight\", \"bn.bias\", \"bn.running_mean\", \"bn.running_var\", \"layer1.0.conv1.bias\", \"layer1.0.conv2.bias\", \"layer1.1.conv1.bias\", \"layer1.1.conv2.bias\", \"layer1.2.conv1.bias\", \"layer1.2.conv2.bias\", \"layer2.0.conv1.bias\", \"layer2.0.conv2.bias\", \"layer2.0.downsample.weight\", \"layer2.0.downsample.bias\", \"layer2.1.conv1.bias\", \"layer2.1.conv2.bias\", \"layer2.2.conv1.bias\", \"layer2.2.conv2.bias\", \"layer2.3.conv1.bias\", \"layer2.3.conv2.bias\", \"layer3.0.conv1.bias\", \"layer3.0.conv2.bias\", \"layer3.0.downsample.weight\", \"layer3.0.downsample.bias\", \"layer3.1.conv1.bias\", \"layer3.1.conv2.bias\", \"layer3.2.conv1.bias\", \"layer3.2.conv2.bias\", \"layer3.3.conv1.bias\", \"layer3.3.conv2.bias\", \"layer3.4.conv1.bias\", \"layer3.4.conv2.bias\", \"layer3.5.conv1.bias\", \"layer3.5.conv2.bias\", \"layer4.0.conv1.bias\", \"layer4.0.conv2.bias\", \"layer4.0.downsample.weight\", \"layer4.0.downsample.bias\", \"layer4.1.conv1.bias\", \"layer4.1.conv2.bias\", \"layer4.2.conv1.bias\", \"layer4.2.conv2.bias\". \n\tUnexpected key(s) in state_dict: \"conv1.weight\", \"bn1.weight\", \"bn1.bias\", \"bn1.running_mean\", \"bn1.running_var\", \"bn1.num_batches_tracked\", \"layer2.0.downsample.0.weight\", \"layer2.0.downsample.1.weight\", \"layer2.0.downsample.1.bias\", \"layer2.0.downsample.1.running_mean\", \"layer2.0.downsample.1.running_var\", \"layer2.0.downsample.1.num_batches_tracked\", \"layer3.0.downsample.0.weight\", \"layer3.0.downsample.1.weight\", \"layer3.0.downsample.1.bias\", \"layer3.0.downsample.1.running_mean\", \"layer3.0.downsample.1.running_var\", \"layer3.0.downsample.1.num_batches_tracked\", \"layer4.0.downsample.0.weight\", \"layer4.0.downsample.1.weight\", \"layer4.0.downsample.1.bias\", \"layer4.0.downsample.1.running_mean\", \"layer4.0.downsample.1.running_var\", \"layer4.0.downsample.1.num_batches_tracked\". ",
     "output_type": "error",
     "traceback": [
      "\u001b[0;31m---------------------------------------------------------------------------\u001b[0m",
      "\u001b[0;31mRuntimeError\u001b[0m                              Traceback (most recent call last)",
      "\u001b[0;32m/tmp/ipykernel_1848441/629328279.py\u001b[0m in \u001b[0;36m<module>\u001b[0;34m\u001b[0m\n\u001b[0;32m----> 1\u001b[0;31m \u001b[0mmodel\u001b[0m\u001b[0;34m.\u001b[0m\u001b[0mload_state_dict\u001b[0m\u001b[0;34m(\u001b[0m\u001b[0mtorch\u001b[0m\u001b[0;34m.\u001b[0m\u001b[0mload\u001b[0m\u001b[0;34m(\u001b[0m\u001b[0;34m'resnet_weights.pth'\u001b[0m\u001b[0;34m)\u001b[0m\u001b[0;34m)\u001b[0m\u001b[0;34m\u001b[0m\u001b[0;34m\u001b[0m\u001b[0m\n\u001b[0m",
      "\u001b[0;32m~/anaconda3/envs/deep-learning/lib/python3.9/site-packages/torch/nn/modules/module.py\u001b[0m in \u001b[0;36mload_state_dict\u001b[0;34m(self, state_dict, strict)\u001b[0m\n\u001b[1;32m   1480\u001b[0m \u001b[0;34m\u001b[0m\u001b[0m\n\u001b[1;32m   1481\u001b[0m         \u001b[0;32mif\u001b[0m \u001b[0mlen\u001b[0m\u001b[0;34m(\u001b[0m\u001b[0merror_msgs\u001b[0m\u001b[0;34m)\u001b[0m \u001b[0;34m>\u001b[0m \u001b[0;36m0\u001b[0m\u001b[0;34m:\u001b[0m\u001b[0;34m\u001b[0m\u001b[0;34m\u001b[0m\u001b[0m\n\u001b[0;32m-> 1482\u001b[0;31m             raise RuntimeError('Error(s) in loading state_dict for {}:\\n\\t{}'.format(\n\u001b[0m\u001b[1;32m   1483\u001b[0m                                self.__class__.__name__, \"\\n\\t\".join(error_msgs)))\n\u001b[1;32m   1484\u001b[0m         \u001b[0;32mreturn\u001b[0m \u001b[0m_IncompatibleKeys\u001b[0m\u001b[0;34m(\u001b[0m\u001b[0mmissing_keys\u001b[0m\u001b[0;34m,\u001b[0m \u001b[0munexpected_keys\u001b[0m\u001b[0;34m)\u001b[0m\u001b[0;34m\u001b[0m\u001b[0;34m\u001b[0m\u001b[0m\n",
      "\u001b[0;31mRuntimeError\u001b[0m: Error(s) in loading state_dict for ResNet:\n\tMissing key(s) in state_dict: \"conv.weight\", \"conv.bias\", \"bn.weight\", \"bn.bias\", \"bn.running_mean\", \"bn.running_var\", \"layer1.0.conv1.bias\", \"layer1.0.conv2.bias\", \"layer1.1.conv1.bias\", \"layer1.1.conv2.bias\", \"layer1.2.conv1.bias\", \"layer1.2.conv2.bias\", \"layer2.0.conv1.bias\", \"layer2.0.conv2.bias\", \"layer2.0.downsample.weight\", \"layer2.0.downsample.bias\", \"layer2.1.conv1.bias\", \"layer2.1.conv2.bias\", \"layer2.2.conv1.bias\", \"layer2.2.conv2.bias\", \"layer2.3.conv1.bias\", \"layer2.3.conv2.bias\", \"layer3.0.conv1.bias\", \"layer3.0.conv2.bias\", \"layer3.0.downsample.weight\", \"layer3.0.downsample.bias\", \"layer3.1.conv1.bias\", \"layer3.1.conv2.bias\", \"layer3.2.conv1.bias\", \"layer3.2.conv2.bias\", \"layer3.3.conv1.bias\", \"layer3.3.conv2.bias\", \"layer3.4.conv1.bias\", \"layer3.4.conv2.bias\", \"layer3.5.conv1.bias\", \"layer3.5.conv2.bias\", \"layer4.0.conv1.bias\", \"layer4.0.conv2.bias\", \"layer4.0.downsample.weight\", \"layer4.0.downsample.bias\", \"layer4.1.conv1.bias\", \"layer4.1.conv2.bias\", \"layer4.2.conv1.bias\", \"layer4.2.conv2.bias\". \n\tUnexpected key(s) in state_dict: \"conv1.weight\", \"bn1.weight\", \"bn1.bias\", \"bn1.running_mean\", \"bn1.running_var\", \"bn1.num_batches_tracked\", \"layer2.0.downsample.0.weight\", \"layer2.0.downsample.1.weight\", \"layer2.0.downsample.1.bias\", \"layer2.0.downsample.1.running_mean\", \"layer2.0.downsample.1.running_var\", \"layer2.0.downsample.1.num_batches_tracked\", \"layer3.0.downsample.0.weight\", \"layer3.0.downsample.1.weight\", \"layer3.0.downsample.1.bias\", \"layer3.0.downsample.1.running_mean\", \"layer3.0.downsample.1.running_var\", \"layer3.0.downsample.1.num_batches_tracked\", \"layer4.0.downsample.0.weight\", \"layer4.0.downsample.1.weight\", \"layer4.0.downsample.1.bias\", \"layer4.0.downsample.1.running_mean\", \"layer4.0.downsample.1.running_var\", \"layer4.0.downsample.1.num_batches_tracked\". "
     ]
    }
   ],
   "source": [
    "model.load_state_dict(torch.load('resnet_weights.pth'))"
   ]
  },
  {
   "cell_type": "markdown",
   "id": "f7b8d5c3",
   "metadata": {},
   "source": [
    "Okay, so the model weights won't be loading because we have to define a resnet with same keys as it is saved in TORCH!!"
   ]
  },
  {
   "cell_type": "markdown",
   "id": "45e6ceeb",
   "metadata": {},
   "source": [
    "Will take a look at that later!"
   ]
  },
  {
   "cell_type": "code",
   "execution_count": null,
   "id": "4d3c8e93",
   "metadata": {},
   "outputs": [],
   "source": []
  }
 ],
 "metadata": {
  "kernelspec": {
   "display_name": "Python 3 (ipykernel)",
   "language": "python",
   "name": "python3"
  },
  "language_info": {
   "codemirror_mode": {
    "name": "ipython",
    "version": 3
   },
   "file_extension": ".py",
   "mimetype": "text/x-python",
   "name": "python",
   "nbconvert_exporter": "python",
   "pygments_lexer": "ipython3",
   "version": "3.9.7"
  }
 },
 "nbformat": 4,
 "nbformat_minor": 5
}
