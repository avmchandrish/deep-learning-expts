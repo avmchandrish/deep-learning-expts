{
 "cells": [
  {
   "cell_type": "code",
   "execution_count": 56,
   "id": "9fae95c6",
   "metadata": {},
   "outputs": [],
   "source": [
    "import torch\n",
    "import torch.nn as nn\n",
    "import torch.nn.functional as F\n",
    "from skimage import io"
   ]
  },
  {
   "cell_type": "code",
   "execution_count": 5,
   "id": "822cf46d",
   "metadata": {},
   "outputs": [],
   "source": [
    "img_arr = io.imread('data/img.tif')"
   ]
  },
  {
   "cell_type": "code",
   "execution_count": 46,
   "id": "65adcd2e",
   "metadata": {},
   "outputs": [
    {
     "data": {
      "text/plain": [
       "torch.Size([1, 1, 128, 128])"
      ]
     },
     "execution_count": 46,
     "metadata": {},
     "output_type": "execute_result"
    }
   ],
   "source": [
    "img_t = torch.tensor(img_arr, dtype = torch.float32)\n",
    "img_t = torch.unsqueeze(torch.unsqueeze(img_t, 0), 0)\n",
    "img_t.shape"
   ]
  },
  {
   "cell_type": "markdown",
   "id": "eec07b1a",
   "metadata": {},
   "source": [
    "Convolution"
   ]
  },
  {
   "cell_type": "code",
   "execution_count": 59,
   "id": "b495ed67",
   "metadata": {},
   "outputs": [],
   "source": [
    "conv3 = nn.Conv2d(in_channels= 1, out_channels=64, kernel_size=7, stride=2, padding=3)"
   ]
  },
  {
   "cell_type": "code",
   "execution_count": 60,
   "id": "9ac05b45",
   "metadata": {
    "scrolled": true
   },
   "outputs": [
    {
     "data": {
      "text/plain": [
       "torch.Size([1, 64, 64, 64])"
      ]
     },
     "execution_count": 60,
     "metadata": {},
     "output_type": "execute_result"
    }
   ],
   "source": [
    "out1 = conv3(img_t)\n",
    "out1.shape"
   ]
  },
  {
   "cell_type": "markdown",
   "id": "a9223271",
   "metadata": {},
   "source": [
    "Output Size = (Input Size + 2 * padding - Kernel Size)/Stride + 1"
   ]
  },
  {
   "cell_type": "markdown",
   "id": "5f757fde",
   "metadata": {},
   "source": [
    "Batch Norm"
   ]
  },
  {
   "cell_type": "code",
   "execution_count": 61,
   "id": "b2181d57",
   "metadata": {},
   "outputs": [
    {
     "data": {
      "text/plain": [
       "torch.Size([1, 64, 64, 64])"
      ]
     },
     "execution_count": 61,
     "metadata": {},
     "output_type": "execute_result"
    }
   ],
   "source": [
    "bn = nn.BatchNorm2d(num_features= 64)\n",
    "out2 = bn(out1)\n",
    "out2.shape"
   ]
  },
  {
   "cell_type": "markdown",
   "id": "a741a117",
   "metadata": {},
   "source": [
    "Relu"
   ]
  },
  {
   "cell_type": "code",
   "execution_count": 62,
   "id": "828b7b96",
   "metadata": {},
   "outputs": [
    {
     "data": {
      "text/plain": [
       "torch.Size([1, 64, 64, 64])"
      ]
     },
     "execution_count": 62,
     "metadata": {},
     "output_type": "execute_result"
    }
   ],
   "source": [
    "out3 = F.relu(out2)\n",
    "out3.shape"
   ]
  },
  {
   "cell_type": "code",
   "execution_count": 71,
   "id": "12d78030",
   "metadata": {},
   "outputs": [
    {
     "data": {
      "text/plain": [
       "Sequential(\n",
       "  (0): Conv2d(64, 64, kernel_size=(3, 3), stride=(1, 1), padding=(1, 1))\n",
       "  (1): BatchNorm2d(64, eps=1e-05, momentum=0.1, affine=True, track_running_stats=True)\n",
       "  (2): ReLU()\n",
       ")"
      ]
     },
     "execution_count": 71,
     "metadata": {},
     "output_type": "execute_result"
    }
   ],
   "source": [
    "block = nn.Sequential(\n",
    "    nn.Conv2d(64, 64, kernel_size= 3, stride = 1, padding = 1),\n",
    "    nn.BatchNorm2d(num_features = 64),\n",
    "    nn.ReLU())\n",
    "block"
   ]
  },
  {
   "cell_type": "code",
   "execution_count": 69,
   "id": "3f3c5e27",
   "metadata": {},
   "outputs": [
    {
     "data": {
      "text/plain": [
       "torch.Size([1, 64, 64, 64])"
      ]
     },
     "execution_count": 69,
     "metadata": {},
     "output_type": "execute_result"
    }
   ],
   "source": [
    "out4 = block(out3)\n",
    "out5 = block(out)\n",
    "out4.shape"
   ]
  },
  {
   "cell_type": "markdown",
   "id": "3fb5d4a3",
   "metadata": {},
   "source": [
    "First Block"
   ]
  },
  {
   "cell_type": "code",
   "execution_count": null,
   "id": "bb9df906",
   "metadata": {},
   "outputs": [],
   "source": []
  },
  {
   "cell_type": "code",
   "execution_count": null,
   "id": "41d140fe",
   "metadata": {},
   "outputs": [],
   "source": []
  },
  {
   "cell_type": "markdown",
   "id": "3a1f5f60",
   "metadata": {},
   "source": [
    "Resnet Block 1"
   ]
  },
  {
   "cell_type": "code",
   "execution_count": 81,
   "id": "9cf801e1",
   "metadata": {},
   "outputs": [],
   "source": [
    "class ResBlock1(nn.Module):\n",
    "    def __init__(self, channels):\n",
    "        super(ResBlock1, self).__init__()\n",
    "        self.channels = channels\n",
    "        self.conv1 = nn.Conv2d(channels, channels, kernel_size = 3, stride = 1, padding = 1)\n",
    "        self.bn1 = nn.BatchNorm2d(num_features = channels)\n",
    "        self.relu1 = nn.ReLU()\n",
    "        self.conv2 = nn.Conv2d(channels, channels, kernel_size = 3, stride = 1, padding = 1)\n",
    "        self.bn2 = nn.BatchNorm2d(num_features = channels)\n",
    "        \n",
    "    def forward(self, in_img):\n",
    "        conv1_out = self.conv1(in_img)\n",
    "        bn1_out = self.bn1(conv1_out)\n",
    "        relu1_out = self.relu1(bn1_out)\n",
    "        conv2_out = self.conv2(relu1_out)\n",
    "        bn2_out = self.bn2(conv2_out)\n",
    "        return bn2_out"
   ]
  },
  {
   "cell_type": "code",
   "execution_count": 82,
   "id": "fff5ed30",
   "metadata": {
    "scrolled": true
   },
   "outputs": [],
   "source": [
    "x = ResBlock1(64)"
   ]
  },
  {
   "cell_type": "code",
   "execution_count": 85,
   "id": "05abc83f",
   "metadata": {
    "scrolled": true
   },
   "outputs": [
    {
     "data": {
      "text/plain": [
       "torch.Size([1, 64, 64, 64])"
      ]
     },
     "execution_count": 85,
     "metadata": {},
     "output_type": "execute_result"
    }
   ],
   "source": [
    "x(out3).shape"
   ]
  },
  {
   "cell_type": "code",
   "execution_count": null,
   "id": "86d7fd6b",
   "metadata": {},
   "outputs": [],
   "source": []
  },
  {
   "cell_type": "code",
   "execution_count": null,
   "id": "746d4642",
   "metadata": {},
   "outputs": [],
   "source": []
  },
  {
   "cell_type": "code",
   "execution_count": null,
   "id": "6ff7ae12",
   "metadata": {},
   "outputs": [],
   "source": []
  }
 ],
 "metadata": {
  "kernelspec": {
   "display_name": "Python 3 (ipykernel)",
   "language": "python",
   "name": "python3"
  },
  "language_info": {
   "codemirror_mode": {
    "name": "ipython",
    "version": 3
   },
   "file_extension": ".py",
   "mimetype": "text/x-python",
   "name": "python",
   "nbconvert_exporter": "python",
   "pygments_lexer": "ipython3",
   "version": "3.9.7"
  }
 },
 "nbformat": 4,
 "nbformat_minor": 5
}
