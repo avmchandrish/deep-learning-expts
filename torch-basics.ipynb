{
 "cells": [
  {
   "cell_type": "code",
   "execution_count": 9,
   "id": "a3d3a030",
   "metadata": {},
   "outputs": [],
   "source": [
    "import torch\n",
    "import numpy as np"
   ]
  },
  {
   "cell_type": "markdown",
   "id": "7ca75ac4",
   "metadata": {},
   "source": [
    "Check if torch package is installed"
   ]
  },
  {
   "cell_type": "code",
   "execution_count": 7,
   "id": "411ce912",
   "metadata": {},
   "outputs": [],
   "source": [
    "x = torch.rand(5, 3)"
   ]
  },
  {
   "cell_type": "code",
   "execution_count": 8,
   "id": "d65d0afe",
   "metadata": {},
   "outputs": [
    {
     "data": {
      "text/plain": [
       "tensor([[0.2805, 0.0697, 0.3695],\n",
       "        [0.3639, 0.2688, 0.1976],\n",
       "        [0.7734, 0.3567, 0.5619],\n",
       "        [0.3607, 0.6809, 0.9288],\n",
       "        [0.8898, 0.9437, 0.8421]])"
      ]
     },
     "execution_count": 8,
     "metadata": {},
     "output_type": "execute_result"
    }
   ],
   "source": [
    "x"
   ]
  },
  {
   "cell_type": "markdown",
   "id": "080763f6",
   "metadata": {},
   "source": [
    "## Basics"
   ]
  },
  {
   "cell_type": "markdown",
   "id": "2c4654d4",
   "metadata": {},
   "source": [
    "### 1. Tensors"
   ]
  },
  {
   "cell_type": "markdown",
   "id": "ca4803e9",
   "metadata": {},
   "source": [
    "#### Initializing a tensor"
   ]
  },
  {
   "cell_type": "code",
   "execution_count": 10,
   "id": "39c25433",
   "metadata": {},
   "outputs": [],
   "source": [
    "x = [[1, 2], [3, 4]]"
   ]
  },
  {
   "cell_type": "code",
   "execution_count": 14,
   "id": "e9b9362f",
   "metadata": {},
   "outputs": [
    {
     "name": "stdout",
     "output_type": "stream",
     "text": [
      "<class 'torch.Tensor'>\n"
     ]
    },
    {
     "data": {
      "text/plain": [
       "tensor([[1, 2],\n",
       "        [3, 4]])"
      ]
     },
     "execution_count": 14,
     "metadata": {},
     "output_type": "execute_result"
    }
   ],
   "source": [
    "xt = torch.tensor(x)\n",
    "print(type(xt))\n",
    "xt"
   ]
  },
  {
   "cell_type": "code",
   "execution_count": 15,
   "id": "2a133909",
   "metadata": {},
   "outputs": [
    {
     "name": "stdout",
     "output_type": "stream",
     "text": [
      "<class 'torch.Tensor'>\n"
     ]
    },
    {
     "data": {
      "text/plain": [
       "tensor([[1, 2],\n",
       "        [3, 4]])"
      ]
     },
     "execution_count": 15,
     "metadata": {},
     "output_type": "execute_result"
    }
   ],
   "source": [
    "xnp = np.array(x)\n",
    "xt = torch.from_numpy(xnp)\n",
    "print(type(xt))\n",
    "xt"
   ]
  },
  {
   "cell_type": "code",
   "execution_count": 17,
   "id": "5f7e3c74",
   "metadata": {},
   "outputs": [
    {
     "data": {
      "text/plain": [
       "tensor([[1, 1],\n",
       "        [1, 1]])"
      ]
     },
     "execution_count": 17,
     "metadata": {},
     "output_type": "execute_result"
    }
   ],
   "source": [
    "x_ones = torch.ones_like(xt)\n",
    "x_ones"
   ]
  },
  {
   "cell_type": "code",
   "execution_count": 20,
   "id": "91bef340",
   "metadata": {},
   "outputs": [
    {
     "data": {
      "text/plain": [
       "tensor([[0.7117, 0.4178],\n",
       "        [0.9631, 0.3451]])"
      ]
     },
     "execution_count": 20,
     "metadata": {},
     "output_type": "execute_result"
    }
   ],
   "source": [
    "x_rand = torch.rand_like(xt, dtype = torch.float)\n",
    "x_rand"
   ]
  },
  {
   "cell_type": "code",
   "execution_count": 23,
   "id": "68479f3a",
   "metadata": {},
   "outputs": [],
   "source": [
    "rand_t = torch.rand(5, 3)\n",
    "ones_t = torch.ones(4, 5)\n",
    "zeros_t = torch.zeros(1, 3)"
   ]
  },
  {
   "cell_type": "code",
   "execution_count": null,
   "id": "5d1f0987",
   "metadata": {},
   "outputs": [],
   "source": []
  },
  {
   "cell_type": "code",
   "execution_count": null,
   "id": "67cd8ced",
   "metadata": {},
   "outputs": [],
   "source": []
  },
  {
   "cell_type": "code",
   "execution_count": null,
   "id": "a3178461",
   "metadata": {},
   "outputs": [],
   "source": []
  },
  {
   "cell_type": "code",
   "execution_count": null,
   "id": "ce8012c5",
   "metadata": {},
   "outputs": [],
   "source": []
  },
  {
   "cell_type": "code",
   "execution_count": null,
   "id": "6fe99051",
   "metadata": {},
   "outputs": [],
   "source": []
  },
  {
   "cell_type": "code",
   "execution_count": null,
   "id": "2d9ac3a4",
   "metadata": {},
   "outputs": [],
   "source": []
  },
  {
   "cell_type": "code",
   "execution_count": null,
   "id": "e1068c87",
   "metadata": {},
   "outputs": [],
   "source": []
  }
 ],
 "metadata": {
  "kernelspec": {
   "display_name": "Python 3",
   "language": "python",
   "name": "python3"
  },
  "language_info": {
   "codemirror_mode": {
    "name": "ipython",
    "version": 3
   },
   "file_extension": ".py",
   "mimetype": "text/x-python",
   "name": "python",
   "nbconvert_exporter": "python",
   "pygments_lexer": "ipython3",
   "version": "3.6.8"
  }
 },
 "nbformat": 4,
 "nbformat_minor": 5
}
