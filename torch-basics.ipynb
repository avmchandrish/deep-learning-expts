{
 "cells": [
  {
   "cell_type": "code",
   "execution_count": 3,
   "id": "d779c3eb",
   "metadata": {},
   "outputs": [],
   "source": [
    "import torch\n",
    "import numpy as np"
   ]
  },
  {
   "cell_type": "markdown",
   "id": "d4891f2e",
   "metadata": {},
   "source": [
    "Check if torch package is installed"
   ]
  },
  {
   "cell_type": "code",
   "execution_count": 7,
   "id": "43018925",
   "metadata": {},
   "outputs": [],
   "source": [
    "x = torch.rand(5, 3)"
   ]
  },
  {
   "cell_type": "code",
   "execution_count": 8,
   "id": "eb4385de",
   "metadata": {},
   "outputs": [
    {
     "data": {
      "text/plain": [
       "tensor([[0.2805, 0.0697, 0.3695],\n",
       "        [0.3639, 0.2688, 0.1976],\n",
       "        [0.7734, 0.3567, 0.5619],\n",
       "        [0.3607, 0.6809, 0.9288],\n",
       "        [0.8898, 0.9437, 0.8421]])"
      ]
     },
     "execution_count": 8,
     "metadata": {},
     "output_type": "execute_result"
    }
   ],
   "source": [
    "x"
   ]
  },
  {
   "cell_type": "markdown",
   "id": "19c4dbb0",
   "metadata": {},
   "source": [
    "## Basics"
   ]
  },
  {
   "cell_type": "markdown",
   "id": "142595ab",
   "metadata": {},
   "source": [
    "### 1. Tensors"
   ]
  },
  {
   "cell_type": "markdown",
   "id": "d33bcfb4",
   "metadata": {},
   "source": [
    "#### Initializing a tensor"
   ]
  },
  {
   "cell_type": "code",
   "execution_count": 10,
   "id": "d3695e5a",
   "metadata": {},
   "outputs": [],
   "source": [
    "x = [[1, 2], [3, 4]]"
   ]
  },
  {
   "cell_type": "code",
   "execution_count": 14,
   "id": "ed02f618",
   "metadata": {},
   "outputs": [
    {
     "name": "stdout",
     "output_type": "stream",
     "text": [
      "<class 'torch.Tensor'>\n"
     ]
    },
    {
     "data": {
      "text/plain": [
       "tensor([[1, 2],\n",
       "        [3, 4]])"
      ]
     },
     "execution_count": 14,
     "metadata": {},
     "output_type": "execute_result"
    }
   ],
   "source": [
    "xt = torch.tensor(x)\n",
    "print(type(xt))\n",
    "xt"
   ]
  },
  {
   "cell_type": "code",
   "execution_count": 15,
   "id": "d9c1fac4",
   "metadata": {},
   "outputs": [
    {
     "name": "stdout",
     "output_type": "stream",
     "text": [
      "<class 'torch.Tensor'>\n"
     ]
    },
    {
     "data": {
      "text/plain": [
       "tensor([[1, 2],\n",
       "        [3, 4]])"
      ]
     },
     "execution_count": 15,
     "metadata": {},
     "output_type": "execute_result"
    }
   ],
   "source": [
    "xnp = np.array(x)\n",
    "xt = torch.from_numpy(xnp)\n",
    "print(type(xt))\n",
    "xt"
   ]
  },
  {
   "cell_type": "code",
   "execution_count": 17,
   "id": "7668de59",
   "metadata": {},
   "outputs": [
    {
     "data": {
      "text/plain": [
       "tensor([[1, 1],\n",
       "        [1, 1]])"
      ]
     },
     "execution_count": 17,
     "metadata": {},
     "output_type": "execute_result"
    }
   ],
   "source": [
    "x_ones = torch.ones_like(xt)\n",
    "x_ones"
   ]
  },
  {
   "cell_type": "code",
   "execution_count": 20,
   "id": "697dd272",
   "metadata": {},
   "outputs": [
    {
     "data": {
      "text/plain": [
       "tensor([[0.7117, 0.4178],\n",
       "        [0.9631, 0.3451]])"
      ]
     },
     "execution_count": 20,
     "metadata": {},
     "output_type": "execute_result"
    }
   ],
   "source": [
    "x_rand = torch.rand_like(xt, dtype = torch.float)\n",
    "x_rand"
   ]
  },
  {
   "cell_type": "code",
   "execution_count": 23,
   "id": "44c63bcd",
   "metadata": {},
   "outputs": [],
   "source": [
    "rand_t = torch.rand(5, 3)\n",
    "ones_t = torch.ones(4, 5)\n",
    "zeros_t = torch.zeros(1, 3)"
   ]
  },
  {
   "cell_type": "markdown",
   "id": "1ef3dfe1",
   "metadata": {},
   "source": [
    "#### Attributes of a tensor\n",
    "More [here](https://pytorch.org/docs/stable/tensor_attributes.html)"
   ]
  },
  {
   "cell_type": "code",
   "execution_count": 24,
   "id": "e9124470",
   "metadata": {},
   "outputs": [
    {
     "data": {
      "text/plain": [
       "torch.Size([2, 2])"
      ]
     },
     "execution_count": 24,
     "metadata": {},
     "output_type": "execute_result"
    }
   ],
   "source": [
    "xt.shape"
   ]
  },
  {
   "cell_type": "code",
   "execution_count": 25,
   "id": "ff21c85a",
   "metadata": {},
   "outputs": [
    {
     "data": {
      "text/plain": [
       "device(type='cpu')"
      ]
     },
     "execution_count": 25,
     "metadata": {},
     "output_type": "execute_result"
    }
   ],
   "source": [
    "xt.device"
   ]
  },
  {
   "cell_type": "code",
   "execution_count": 26,
   "id": "e6834b1e",
   "metadata": {},
   "outputs": [
    {
     "data": {
      "text/plain": [
       "torch.int64"
      ]
     },
     "execution_count": 26,
     "metadata": {},
     "output_type": "execute_result"
    }
   ],
   "source": [
    "xt.dtype"
   ]
  },
  {
   "cell_type": "markdown",
   "id": "d5659814",
   "metadata": {},
   "source": [
    "#### Operations on tensors\n",
    "More [here](https://pytorch.org/docs/stable/torch.html)"
   ]
  },
  {
   "cell_type": "code",
   "execution_count": 29,
   "id": "98af5d9a",
   "metadata": {},
   "outputs": [],
   "source": [
    "# moving tensor to the GPU if available\n",
    "if torch.cuda.is_available():\n",
    "    xt = xt.to('cuda')"
   ]
  },
  {
   "cell_type": "code",
   "execution_count": 30,
   "id": "9acbbcd7",
   "metadata": {},
   "outputs": [
    {
     "data": {
      "text/plain": [
       "device(type='cuda', index=0)"
      ]
     },
     "execution_count": 30,
     "metadata": {},
     "output_type": "execute_result"
    }
   ],
   "source": [
    "xt.device"
   ]
  },
  {
   "cell_type": "code",
   "execution_count": 33,
   "id": "f5bc500c",
   "metadata": {},
   "outputs": [
    {
     "name": "stdout",
     "output_type": "stream",
     "text": [
      "tensor([3, 4], device='cuda:0')\n",
      "tensor([2, 4], device='cuda:0')\n"
     ]
    }
   ],
   "source": [
    "# numpy like slicing annd indexing\n",
    "print(xt[1])\n",
    "print(xt[:, 1])"
   ]
  },
  {
   "cell_type": "code",
   "execution_count": 42,
   "id": "f247d7c6",
   "metadata": {},
   "outputs": [
    {
     "name": "stdout",
     "output_type": "stream",
     "text": [
      "tensor([[1.0000, 1.0000, 0.7117, 0.4178],\n",
      "        [1.0000, 1.0000, 0.9631, 0.3451]])\n",
      "tensor([[1.0000, 1.0000],\n",
      "        [1.0000, 1.0000],\n",
      "        [0.7117, 0.4178],\n",
      "        [0.9631, 0.3451]])\n"
     ]
    }
   ],
   "source": [
    "# joining tensors\n",
    "t1 = torch.cat([x_ones, x_rand], dim = 1)\n",
    "print(t1)\n",
    "t2 = torch.cat([x_ones, x_rand], dim = 0)\n",
    "print(t2)"
   ]
  },
  {
   "cell_type": "code",
   "execution_count": 53,
   "id": "a528e0b2",
   "metadata": {},
   "outputs": [
    {
     "name": "stdout",
     "output_type": "stream",
     "text": [
      "tensor([[0.7136, 0.1295, 0.6589],\n",
      "        [0.1183, 0.7355, 0.3881]])\n",
      "tensor([[0.9602, 0.4354],\n",
      "        [0.4354, 0.7056]])\n",
      "tensor([[0.9602, 0.4354],\n",
      "        [0.4354, 0.7056]])\n",
      "tensor([[0.9602, 0.4354],\n",
      "        [0.4354, 0.7056]])\n",
      "tensor([[0.5093, 0.0168, 0.4342],\n",
      "        [0.0140, 0.5410, 0.1507]])\n",
      "tensor([[0.5093, 0.0168, 0.4342],\n",
      "        [0.0140, 0.5410, 0.1507]])\n"
     ]
    }
   ],
   "source": [
    "# arithmetic operations\n",
    "t = torch.rand(2, 3)\n",
    "print(t)\n",
    "\n",
    "# matrix multiplication\n",
    "y1 = t @ t.T; print(y1)\n",
    "y2 = t.matmul(t.T); print(y2)\n",
    "y3 = torch.matmul(t, t.T); print(y3)\n",
    "\n",
    "# element wise product\n",
    "z1 = t * t ; print(z1)\n",
    "z2 = t.mul(t); print(z2)"
   ]
  },
  {
   "cell_type": "code",
   "execution_count": 61,
   "id": "8edcd02e",
   "metadata": {},
   "outputs": [
    {
     "name": "stdout",
     "output_type": "stream",
     "text": [
      "0.8229666948318481\n",
      "tensor([[0.5133],\n",
      "        [0.3222],\n",
      "        [0.0692],\n",
      "        [0.5482],\n",
      "        [0.3878]])\n",
      "tensor([[4.5133],\n",
      "        [4.3222],\n",
      "        [4.0692],\n",
      "        [4.5482],\n",
      "        [4.3878]])\n"
     ]
    }
   ],
   "source": [
    "# single element tensor\n",
    "t = torch.rand(5, 1)\n",
    "y = t.T @ t\n",
    "print(y.item())\n",
    "\n",
    "# inplace operations\n",
    "print(t)\n",
    "t.add_(4)\n",
    "print(t)"
   ]
  },
  {
   "cell_type": "markdown",
   "id": "44725ab5",
   "metadata": {},
   "source": [
    "### 2. Datasets and DataLoaders"
   ]
  },
  {
   "cell_type": "markdown",
   "id": "78ecbf06",
   "metadata": {},
   "source": [
    "Datasets: torch.utils.data.Dataset <br>\n",
    "Dataloader: torch.utils.data.Dataloader"
   ]
  },
  {
   "cell_type": "markdown",
   "id": "cc0220da",
   "metadata": {},
   "source": [
    "#### Loading a DataSet"
   ]
  },
  {
   "cell_type": "code",
   "execution_count": 200,
   "id": "ec042638",
   "metadata": {},
   "outputs": [],
   "source": [
    "import torch\n",
    "from torch.utils.data import Dataset\n",
    "from torchvision import datasets\n",
    "from torchvision.transforms import ToTensor"
   ]
  },
  {
   "cell_type": "code",
   "execution_count": 201,
   "id": "d4e5b830",
   "metadata": {
    "scrolled": true
   },
   "outputs": [],
   "source": [
    "training = datasets.FashionMNIST(root = 'data', train = True, download = True, transform = ToTensor())\n",
    "#training = datasets.FashionMNIST(root = 'data', train = True, download = True)"
   ]
  },
  {
   "cell_type": "code",
   "execution_count": 7,
   "id": "2bce7419",
   "metadata": {},
   "outputs": [
    {
     "data": {
      "text/plain": [
       "torchvision.datasets.mnist.FashionMNIST"
      ]
     },
     "execution_count": 7,
     "metadata": {},
     "output_type": "execute_result"
    }
   ],
   "source": [
    "type(training)"
   ]
  },
  {
   "cell_type": "code",
   "execution_count": 202,
   "id": "36a0f702",
   "metadata": {},
   "outputs": [],
   "source": [
    "test = datasets.FashionMNIST(root = 'data', train = False, download = True, transform = ToTensor())"
   ]
  },
  {
   "cell_type": "code",
   "execution_count": 9,
   "id": "cc0d8ac6",
   "metadata": {},
   "outputs": [
    {
     "data": {
      "text/plain": [
       "torchvision.datasets.mnist.FashionMNIST"
      ]
     },
     "execution_count": 9,
     "metadata": {},
     "output_type": "execute_result"
    }
   ],
   "source": [
    "type(test)"
   ]
  },
  {
   "cell_type": "markdown",
   "id": "7c4a5de8",
   "metadata": {},
   "source": [
    "#### Iterating and Visualizing Dataset"
   ]
  },
  {
   "cell_type": "code",
   "execution_count": 11,
   "id": "fe943c0a",
   "metadata": {},
   "outputs": [
    {
     "data": {
      "text/plain": [
       "(<PIL.Image.Image image mode=L size=28x28 at 0x7FA2FC6A2220>, 0)"
      ]
     },
     "execution_count": 11,
     "metadata": {},
     "output_type": "execute_result"
    }
   ],
   "source": [
    "training[1] # gives image and label"
   ]
  },
  {
   "cell_type": "code",
   "execution_count": 13,
   "id": "462ee7e8",
   "metadata": {
    "scrolled": true
   },
   "outputs": [
    {
     "data": {
      "image/png": "[encoded data removed]",
      "text/plain": [
       "<Figure size 432x288 with 9 Axes>"
      ]
     },
     "metadata": {
      "needs_background": "light"
     },
     "output_type": "display_data"
    }
   ],
   "source": [
    "import matplotlib.pyplot as plt\n",
    "labels = ['T-shirt/top', 'Trouser', 'Pullover', 'Dress', 'Coat', 'Sandal', 'Shirt', 'Sneaker', 'Bag', 'Ankle boot']\n",
    "fig, ax = plt.subplots(3, 3)\n",
    "ax = ax.flatten()\n",
    "n = len(training)\n",
    "for i in range(9):\n",
    "    idx = torch.randint(0, n, size = (1,)).item()\n",
    "    img, l = training[idx]\n",
    "    ax[i].imshow(img.squeeze(), cmap = 'gray')\n",
    "    ax[i].set_title(labels[l])\n",
    "plt.tight_layout()\n",
    "plt.show()"
   ]
  },
  {
   "cell_type": "markdown",
   "id": "2db2071a",
   "metadata": {},
   "source": [
    "#### Creating a custom Dataset for your files"
   ]
  },
  {
   "cell_type": "code",
   "execution_count": 8,
   "id": "d388125f",
   "metadata": {},
   "outputs": [],
   "source": [
    "import os\n",
    "import pandas as pd\n",
    "from torchvision.io import read_image"
   ]
  },
  {
   "cell_type": "code",
   "execution_count": 14,
   "id": "72702c5f",
   "metadata": {},
   "outputs": [],
   "source": [
    "class CustomImageDataset(Dataset):\n",
    "    def __init__(self, annotations_file, img_dir, transform = None, target_transform = None):\n",
    "        self.img_labels = pd.read_csv(annotations_file)\n",
    "        self.img_dir = img_dir\n",
    "        self.transfrom = transform\n",
    "        self.target_transform = target_transfotrm\n",
    "    \n",
    "    def __len__(self):\n",
    "        return len(self.labels)\n",
    "    \n",
    "    def __getitem__(self, idx):\n",
    "        img_path = os.path.join(self.img_dir, self.img_labels.iloc[idx, 0])\n",
    "        image = read_image(img_path)\n",
    "        label = self.img_labels.iloc[idx, 1]\n",
    "        if self.transform:\n",
    "            image = self.transform(image)\n",
    "        if self.target_transform:\n",
    "            label = self.target_transform(label)\n",
    "        return image, label"
   ]
  },
  {
   "cell_type": "markdown",
   "id": "97f71b84",
   "metadata": {},
   "source": [
    "#### Prepapring your data for training using Dataloaders"
   ]
  },
  {
   "cell_type": "code",
   "execution_count": 204,
   "id": "28a873e3",
   "metadata": {},
   "outputs": [],
   "source": [
    "from torch.utils.data import DataLoader"
   ]
  },
  {
   "cell_type": "code",
   "execution_count": 205,
   "id": "f0b12dd5",
   "metadata": {},
   "outputs": [],
   "source": [
    "train_dl = DataLoader(training, batch_size = 64, shuffle = True)\n",
    "test_dl = DataLoader(test, batch_size = 64, shuffle = True)"
   ]
  },
  {
   "cell_type": "markdown",
   "id": "87beadbd",
   "metadata": {},
   "source": [
    "#### Iterate through a DataLoader\n",
    "More [here](https://pytorch.org/docs/stable/data.html)"
   ]
  },
  {
   "cell_type": "code",
   "execution_count": 35,
   "id": "eb38022f",
   "metadata": {},
   "outputs": [
    {
     "name": "stdout",
     "output_type": "stream",
     "text": [
      "<class 'torch.Tensor'>\n",
      "torch.Size([64, 1, 28, 28])\n",
      "<class 'torch.Tensor'>\n",
      "torch.Size([64])\n"
     ]
    },
    {
     "data": {
      "text/plain": [
       "Text(0.5, 1.0, 'tensor(8)')"
      ]
     },
     "execution_count": 35,
     "metadata": {},
     "output_type": "execute_result"
    },
    {
     "data": {
      "image/png": "[encoded data removed]",
      "text/plain": [
       "<Figure size 432x288 with 1 Axes>"
      ]
     },
     "metadata": {
      "needs_background": "light"
     },
     "output_type": "display_data"
    }
   ],
   "source": [
    "train_features, train_labels = next(iter(train_dl))\n",
    "print(type(train_features))\n",
    "print(train_features.shape)\n",
    "\n",
    "print(type(train_labels))\n",
    "print(train_labels.shape)\n",
    "\n",
    "#showing an image\n",
    "img = train_features[0].squeeze()\n",
    "label = train_labels[0]\n",
    "\n",
    "plt.imshow(img, cmap = 'gray')\n",
    "plt.title(label)"
   ]
  },
  {
   "cell_type": "markdown",
   "id": "c40cdb83",
   "metadata": {},
   "source": [
    "### 3. Transforms\n",
    "More on transforms is [here](https://pytorch.org/vision/stable/transforms.html)"
   ]
  },
  {
   "cell_type": "markdown",
   "id": "9b4d72bf",
   "metadata": {},
   "source": [
    "Datasets have two: transform (for features), target_transform (for labels)"
   ]
  },
  {
   "cell_type": "code",
   "execution_count": 38,
   "id": "1ce56a14",
   "metadata": {},
   "outputs": [],
   "source": [
    "import torch\n",
    "from torchvision import datasets\n",
    "from torchvision.transforms import ToTensor, Lambda"
   ]
  },
  {
   "cell_type": "code",
   "execution_count": 41,
   "id": "3871bf27",
   "metadata": {},
   "outputs": [],
   "source": [
    "ds = datasets.FashionMNIST(root = 'data', train = True, download = True, transform = ToTensor, \n",
    "                          target_transform = Lambda(lambda y: torch.zeros(10, dtype = torch.float)\n",
    "                                                    .scatter_(0, torch.tensor(y), value = 1)))\n"
   ]
  },
  {
   "cell_type": "markdown",
   "id": "a15df6cd",
   "metadata": {},
   "source": [
    "### 4. Build The Neural Network\n",
    "[torch.nn](https://pytorch.org/docs/stable/nn.html) provides all the building blocks required to build neural network <br>\n",
    "Every module in pytorch subclasses the nn.Module"
   ]
  },
  {
   "cell_type": "code",
   "execution_count": 1,
   "id": "6796ae4c",
   "metadata": {},
   "outputs": [],
   "source": [
    "import os\n",
    "import torch\n",
    "from torch import nn\n",
    "from torchvision import datasets, transforms\n",
    "from torch.utils.data import DataLoader"
   ]
  },
  {
   "cell_type": "code",
   "execution_count": 2,
   "id": "4dc35a8c",
   "metadata": {},
   "outputs": [],
   "source": [
    "# device for training\n",
    "if torch.cuda.is_available(): \n",
    "    device = 'cuda'\n",
    "else:\n",
    "    device = 'cpu'"
   ]
  },
  {
   "cell_type": "code",
   "execution_count": 5,
   "id": "6697c54b",
   "metadata": {},
   "outputs": [],
   "source": [
    "class NeuralNetwork(nn.Module):\n",
    "    def __init__(self):\n",
    "        super(NeuralNetwork, self).__init__()\n",
    "        self.flatten = nn.Flatten()\n",
    "        self.linear_relu_stack = nn.Sequential(\n",
    "            nn.Linear(28*28, 512),\n",
    "            nn.ReLU(),\n",
    "            nn.Linear(512, 256),\n",
    "            nn.ReLU(),\n",
    "            nn.Linear(256, 10))\n",
    "    \n",
    "    def forward(self, x):\n",
    "        x = self.flatten(x)\n",
    "        logits = self.linear_relu_stack(x)\n",
    "        return logits"
   ]
  },
  {
   "cell_type": "code",
   "execution_count": 6,
   "id": "e8038d4e",
   "metadata": {},
   "outputs": [
    {
     "name": "stdout",
     "output_type": "stream",
     "text": [
      "NeuralNetwork(\n",
      "  (flatten): Flatten(start_dim=1, end_dim=-1)\n",
      "  (linear_relu_stack): Sequential(\n",
      "    (0): Linear(in_features=784, out_features=512, bias=True)\n",
      "    (1): ReLU()\n",
      "    (2): Linear(in_features=512, out_features=256, bias=True)\n",
      "    (3): ReLU()\n",
      "    (4): Linear(in_features=256, out_features=10, bias=True)\n",
      "  )\n",
      ")\n"
     ]
    }
   ],
   "source": [
    "model = NeuralNetwork().to(device)\n",
    "print(model)"
   ]
  },
  {
   "cell_type": "code",
   "execution_count": 21,
   "id": "d07a18bb",
   "metadata": {},
   "outputs": [
    {
     "name": "stdout",
     "output_type": "stream",
     "text": [
      "tensor([3], device='cuda:0')\n"
     ]
    }
   ],
   "source": [
    "# dummy training\n",
    "X = torch.rand(1, 28, 28, device = device)\n",
    "logits = model(X)\n",
    "pred_prob = nn.Softmax(dim = 1)(logits)\n",
    "y_pred = pred_prob.argmax(1)\n",
    "print(y_pred)"
   ]
  },
  {
   "cell_type": "markdown",
   "id": "1cd161dc",
   "metadata": {},
   "source": [
    "##### Understanding the layers"
   ]
  },
  {
   "cell_type": "code",
   "execution_count": 22,
   "id": "75a64a60",
   "metadata": {},
   "outputs": [
    {
     "name": "stdout",
     "output_type": "stream",
     "text": [
      "torch.Size([3, 784])\n"
     ]
    }
   ],
   "source": [
    "# creating a random batch of 3\n",
    "input_image = torch.rand(3, 28, 28)\n",
    "\n",
    "# flatten \n",
    "flatten = nn.Flatten()\n",
    "flat_img = flatten(input_image)\n",
    "print(flat_img.shape)\n",
    "# the batch size dimension is preserved"
   ]
  },
  {
   "cell_type": "markdown",
   "id": "6abf43d2",
   "metadata": {},
   "source": [
    "Linear Layer"
   ]
  },
  {
   "cell_type": "code",
   "execution_count": 49,
   "id": "b8856eb8",
   "metadata": {},
   "outputs": [
    {
     "name": "stdout",
     "output_type": "stream",
     "text": [
      "<class 'torch.nn.modules.linear.Linear'>\n",
      "<class 'torch.Tensor'>\n",
      "torch.Size([3, 10])\n",
      "tensor([[ 0.5409, -0.3425,  0.4532,  0.0724, -0.2413, -0.5459, -0.2258,  0.2326,\n",
      "          0.0505, -0.0187],\n",
      "        [ 0.4050, -0.3639,  0.6129,  0.4498, -0.4928, -0.1649,  0.1713,  0.0512,\n",
      "         -0.4692, -0.0249],\n",
      "        [ 0.4236, -0.3390,  0.6898,  0.2630, -0.4060,  0.0318,  0.1440,  0.1129,\n",
      "         -0.0271,  0.0827]], grad_fn=<AddmmBackward0>)\n"
     ]
    }
   ],
   "source": [
    "# linear layer\n",
    "layer1 = nn.Linear(in_features = 28 * 28, out_features = 10)\n",
    "print(f'{type(layer1)}')\n",
    "hidden = layer1(flat_img)\n",
    "print(type(hidden))\n",
    "print(hidden.shape)\n",
    "print(hidden)\n",
    "\n",
    "# the values of hidden keep changing indicating a random initialization"
   ]
  },
  {
   "cell_type": "markdown",
   "id": "b66d26df",
   "metadata": {},
   "source": [
    "ReLU"
   ]
  },
  {
   "cell_type": "code",
   "execution_count": 51,
   "id": "a6d8cfe3",
   "metadata": {},
   "outputs": [
    {
     "name": "stdout",
     "output_type": "stream",
     "text": [
      "<class 'torch.Tensor'>\n",
      "tensor([[0.5409, 0.0000, 0.4532, 0.0724, 0.0000, 0.0000, 0.0000, 0.2326, 0.0505,\n",
      "         0.0000],\n",
      "        [0.4050, 0.0000, 0.6129, 0.4498, 0.0000, 0.0000, 0.1713, 0.0512, 0.0000,\n",
      "         0.0000],\n",
      "        [0.4236, 0.0000, 0.6898, 0.2630, 0.0000, 0.0318, 0.1440, 0.1129, 0.0000,\n",
      "         0.0827]], grad_fn=<ReluBackward0>)\n"
     ]
    }
   ],
   "source": [
    "hidden_r = nn.ReLU()(hidden)\n",
    "print(type(hidden_r))\n",
    "print(hidden_r)"
   ]
  },
  {
   "cell_type": "markdown",
   "id": "e942028b",
   "metadata": {},
   "source": [
    "nn.Sequential - Container of ordered modules"
   ]
  },
  {
   "cell_type": "code",
   "execution_count": 67,
   "id": "c8d06a8f",
   "metadata": {},
   "outputs": [
    {
     "name": "stdout",
     "output_type": "stream",
     "text": [
      "<class 'torch.nn.modules.container.Sequential'>\n",
      "<class 'torch.Tensor'>\n",
      "tensor([[ 0.2634,  0.2871,  0.0950,  0.4227, -0.2539, -0.0685,  0.3196,  0.0168,\n",
      "          0.0765,  0.0996],\n",
      "        [ 0.2299,  0.3891,  0.1973,  0.5329, -0.2547, -0.0624,  0.1473, -0.0439,\n",
      "          0.0973,  0.1616],\n",
      "        [ 0.2763,  0.3217,  0.1178,  0.4454, -0.2047, -0.0901,  0.4057,  0.0234,\n",
      "          0.0383,  0.0984]], grad_fn=<AddmmBackward0>)\n"
     ]
    }
   ],
   "source": [
    "seq_modules = nn.Sequential(\n",
    "    flatten,\n",
    "    layer1,\n",
    "    nn.ReLU(),\n",
    "    nn.Linear(10, 10))\n",
    "input_img = torch.rand(3, 28, 28)\n",
    "logits = seq_modules(input_img)\n",
    "print(type(seq_modules))\n",
    "print(type(logits))\n",
    "print(logits)"
   ]
  },
  {
   "cell_type": "markdown",
   "id": "9757b047",
   "metadata": {},
   "source": [
    "nn.Softmax"
   ]
  },
  {
   "cell_type": "code",
   "execution_count": 69,
   "id": "cccd9c50",
   "metadata": {},
   "outputs": [
    {
     "name": "stdout",
     "output_type": "stream",
     "text": [
      "<class 'torch.nn.modules.activation.Softmax'>\n",
      "<class 'torch.Tensor'>\n"
     ]
    }
   ],
   "source": [
    "softmax = nn.Softmax(dim = 1)\n",
    "pred_prob = softmax(logits)\n",
    "print(type(softmax))\n",
    "print(type(pred_prob))"
   ]
  },
  {
   "cell_type": "markdown",
   "id": "95bfad38",
   "metadata": {},
   "source": [
    "##### Model Parameters\n",
    "nn.module automatically tracks all fields defined inside your model object"
   ]
  },
  {
   "cell_type": "code",
   "execution_count": 70,
   "id": "d40d681b",
   "metadata": {},
   "outputs": [
    {
     "name": "stdout",
     "output_type": "stream",
     "text": [
      "Model Structure: NeuralNetwork(\n",
      "  (flatten): Flatten(start_dim=1, end_dim=-1)\n",
      "  (linear_relu_stack): Sequential(\n",
      "    (0): Linear(in_features=784, out_features=512, bias=True)\n",
      "    (1): ReLU()\n",
      "    (2): Linear(in_features=512, out_features=256, bias=True)\n",
      "    (3): ReLU()\n",
      "    (4): Linear(in_features=256, out_features=10, bias=True)\n",
      "  )\n",
      ")\n"
     ]
    }
   ],
   "source": [
    "print(f'Model Structure:', model)"
   ]
  },
  {
   "cell_type": "code",
   "execution_count": 74,
   "id": "9bcd4727",
   "metadata": {},
   "outputs": [
    {
     "name": "stdout",
     "output_type": "stream",
     "text": [
      "<generator object Module.parameters at 0x7f5a94347660>\n",
      "<generator object Module.named_parameters at 0x7f5a94347660>\n",
      "linear_relu_stack.0.weight torch.Size([512, 784]) Parameter containing:\n",
      "tensor([[-0.0155,  0.0174,  0.0085,  ...,  0.0190,  0.0225, -0.0102],\n",
      "        [ 0.0228,  0.0136, -0.0073,  ..., -0.0267, -0.0211, -0.0235],\n",
      "        [-0.0165,  0.0122,  0.0222,  ...,  0.0105, -0.0120,  0.0180],\n",
      "        ...,\n",
      "        [-0.0135, -0.0025, -0.0308,  ...,  0.0108,  0.0169,  0.0137],\n",
      "        [ 0.0205,  0.0322, -0.0005,  ...,  0.0169,  0.0175,  0.0237],\n",
      "        [-0.0285, -0.0040,  0.0285,  ..., -0.0200,  0.0186, -0.0054]],\n",
      "       device='cuda:0', requires_grad=True)\n",
      "linear_relu_stack.0.bias torch.Size([512]) Parameter containing:\n",
      "tensor([ 3.4311e-02, -2.3128e-02,  3.3177e-02,  3.7945e-03, -1.5008e-04,\n",
      "        -1.7187e-02,  2.7271e-02,  2.8450e-02, -4.9641e-03,  1.2112e-02,\n",
      "        -2.3869e-02,  1.5980e-02, -2.6875e-02, -2.8790e-03, -8.8317e-03,\n",
      "         7.6646e-03,  1.2382e-02, -9.1911e-03, -2.7543e-02,  1.1696e-02,\n",
      "        -5.4665e-03, -2.6659e-02, -2.1231e-02,  3.3242e-02, -2.4984e-02,\n",
      "        -1.4704e-03,  3.0621e-02, -1.8716e-02,  2.4089e-04, -1.8642e-02,\n",
      "        -2.2692e-02, -5.3587e-03, -3.2766e-02, -5.1152e-03, -2.1348e-02,\n",
      "         9.4345e-03, -4.4556e-03, -1.9247e-02,  8.4370e-03, -9.5188e-03,\n",
      "         1.7466e-02, -3.4817e-02,  1.7744e-02,  3.1679e-02, -1.2863e-02,\n",
      "        -1.9055e-02,  1.4718e-02,  1.1750e-02, -1.4533e-02, -1.2109e-02,\n",
      "        -9.7496e-03,  5.5264e-03,  2.5332e-02,  3.2331e-02, -7.8744e-03,\n",
      "        -5.3129e-03,  1.0155e-02,  1.8949e-02,  2.6480e-02,  1.3846e-02,\n",
      "        -1.6471e-02, -2.2838e-02,  2.3546e-02, -1.8973e-02,  1.1567e-02,\n",
      "         1.0857e-02, -9.0546e-03,  1.1826e-02,  1.7725e-02, -1.4794e-02,\n",
      "         9.8904e-03, -2.7450e-02,  6.5734e-03, -7.5215e-03, -4.8296e-03,\n",
      "        -2.8853e-02,  5.4823e-03,  7.8029e-03, -1.1087e-02, -1.8663e-02,\n",
      "        -3.4864e-02, -3.0222e-02,  1.6752e-02,  2.2286e-02,  1.4447e-02,\n",
      "        -5.4138e-03,  3.2189e-02,  1.0311e-03,  3.3325e-02,  2.0493e-02,\n",
      "        -1.1474e-02,  6.0556e-03,  1.6166e-02, -2.0332e-02,  1.8578e-02,\n",
      "         1.9981e-02, -1.9660e-02, -3.3503e-02,  7.7707e-03,  2.8585e-02,\n",
      "         2.0334e-02, -8.3135e-03, -3.4193e-02,  2.5651e-02,  3.4702e-02,\n",
      "        -8.2291e-03, -4.7456e-04,  7.3534e-03,  2.0483e-02, -2.2777e-02,\n",
      "         1.9467e-02,  2.1590e-02, -1.9726e-02, -1.7615e-02,  2.0322e-02,\n",
      "        -7.0517e-03,  2.3895e-02,  2.7179e-03, -2.5275e-02, -2.5424e-02,\n",
      "         2.3828e-02, -2.7757e-02, -1.7711e-02,  1.2436e-02,  8.8457e-03,\n",
      "         2.4543e-02, -2.8723e-02, -2.5011e-02,  1.3572e-02,  3.2097e-02,\n",
      "         1.8228e-02, -5.2312e-03,  2.0590e-02,  4.9412e-05,  2.2058e-02,\n",
      "        -1.0913e-02,  3.2530e-02, -1.1036e-02, -1.7459e-02, -1.6060e-02,\n",
      "         2.2798e-02,  2.0913e-02, -3.9751e-03,  2.4218e-02, -2.3657e-02,\n",
      "        -3.2206e-02, -1.8530e-02,  2.9936e-02, -2.0955e-02, -1.6004e-02,\n",
      "        -5.9371e-03, -3.4694e-02, -2.7376e-03, -3.2392e-03,  1.1922e-02,\n",
      "         3.0785e-02,  1.4792e-04,  1.3483e-02, -1.7199e-02, -2.6078e-02,\n",
      "         2.7876e-02, -2.5266e-02, -3.3346e-02, -2.0409e-02,  2.0907e-02,\n",
      "        -2.9714e-02,  7.2160e-03,  4.7686e-03,  2.4205e-02,  1.0585e-02,\n",
      "        -2.3349e-02, -2.5808e-02,  3.1524e-02,  9.6683e-04, -2.9796e-02,\n",
      "         3.0151e-02, -1.3374e-02,  2.3696e-02, -3.5495e-02,  1.1697e-02,\n",
      "         3.2806e-02, -2.4391e-02, -3.0667e-02, -7.8019e-03,  8.9545e-03,\n",
      "         4.7508e-03,  3.1139e-02, -3.1399e-02,  2.4997e-02,  2.2905e-02,\n",
      "         2.6143e-02,  6.5724e-03,  2.0203e-02, -3.1380e-02,  1.3484e-02,\n",
      "         5.4032e-03,  2.9687e-02,  2.0967e-02, -8.3676e-03,  1.7691e-02,\n",
      "        -1.4128e-02, -1.2846e-02, -1.8984e-02, -3.6615e-04,  3.3683e-03,\n",
      "         3.2382e-02,  2.4666e-02, -2.7787e-02,  2.5198e-02, -1.7657e-03,\n",
      "        -1.4001e-02,  3.5711e-02,  7.2862e-03,  1.5944e-02, -1.6566e-02,\n",
      "        -4.4431e-05, -2.1278e-02,  2.6719e-03,  3.3259e-03,  1.0002e-02,\n",
      "        -3.2459e-02, -2.2163e-02,  1.1109e-03,  2.4150e-02, -1.5817e-02,\n",
      "        -3.9188e-03, -3.5053e-02, -1.0959e-02, -1.7125e-02,  1.9355e-02,\n",
      "         4.7955e-03,  1.1481e-03, -2.0201e-02,  1.0056e-02, -2.4316e-02,\n",
      "        -1.6145e-02,  3.3606e-02, -7.5504e-03, -2.3428e-02,  2.4677e-02,\n",
      "         2.1036e-02,  2.4871e-02, -3.1023e-02,  2.1561e-02, -1.6620e-02,\n",
      "        -1.3147e-05, -8.8978e-03, -2.3858e-02,  2.5946e-02, -2.1771e-02,\n",
      "        -1.8934e-03,  1.4067e-02,  1.0753e-02, -1.8851e-02,  3.4728e-02,\n",
      "         2.4721e-02, -1.7312e-02,  3.1449e-02, -1.1566e-02,  1.1508e-02,\n",
      "         2.8630e-02, -2.5764e-02, -1.9579e-03,  9.3129e-03,  1.7852e-03,\n",
      "        -2.7644e-02,  2.0776e-02,  2.2977e-02, -4.5581e-03,  2.7157e-02,\n",
      "         1.4621e-02, -3.0450e-02,  2.2300e-02, -3.1687e-02,  2.4216e-02,\n",
      "         2.1577e-02,  2.2600e-02, -6.6536e-03, -1.6595e-02, -2.4322e-02,\n",
      "         3.3088e-02, -1.8405e-02,  1.9923e-02, -2.9249e-02, -3.4189e-02,\n",
      "         2.6401e-02,  3.1448e-02, -2.6443e-02, -2.2712e-02,  9.7904e-03,\n",
      "         2.9385e-02, -2.7438e-02,  3.4985e-02,  4.0860e-03,  1.0762e-02,\n",
      "         8.2712e-03,  6.1454e-03,  3.3777e-02,  2.8456e-02,  2.4506e-02,\n",
      "         6.4111e-03,  3.2493e-02, -3.1602e-02,  3.4694e-02,  1.4981e-02,\n",
      "        -1.5733e-02, -9.3811e-04, -2.4283e-02, -8.6209e-03,  5.7060e-03,\n",
      "        -2.1249e-02, -8.5070e-03, -3.1331e-02, -8.2273e-03,  1.4295e-02,\n",
      "        -2.7252e-02, -2.1031e-02,  3.8884e-03, -1.2791e-02, -4.4533e-05,\n",
      "        -3.2575e-02,  1.4043e-02,  2.0788e-02, -2.4056e-02,  2.8193e-02,\n",
      "        -8.9558e-03, -1.5152e-02,  2.4243e-02,  3.5614e-02,  2.1397e-02,\n",
      "        -1.2327e-02, -1.8796e-02,  9.0585e-03, -2.3229e-02, -2.6545e-04,\n",
      "         1.3260e-02,  2.9341e-02,  2.4128e-02,  1.6374e-02,  1.7655e-02,\n",
      "         1.0012e-02, -1.7768e-02,  1.6242e-02, -2.3336e-02, -2.4940e-02,\n",
      "        -1.3686e-04,  7.9535e-03, -2.5782e-02, -2.6780e-02,  2.7928e-02,\n",
      "         6.8803e-03, -2.4320e-02,  1.9540e-02, -1.5209e-02,  5.4121e-03,\n",
      "        -1.5481e-02,  1.7259e-02, -3.4559e-02, -3.0965e-02,  2.7502e-02,\n",
      "         9.9012e-03,  2.8180e-02,  3.0569e-02,  4.5538e-03, -3.0237e-02,\n",
      "         2.5080e-02, -9.3672e-03, -2.8586e-02, -2.4808e-02, -1.0673e-02,\n",
      "        -1.5608e-02, -2.3950e-02, -1.0552e-02, -3.4686e-02, -2.8816e-02,\n",
      "         2.0710e-02,  1.1558e-03, -2.5751e-02, -6.3806e-03, -1.7295e-03,\n",
      "         2.1975e-02, -2.4078e-02, -1.5804e-02,  2.7407e-02,  1.9878e-03,\n",
      "         5.3871e-03, -3.0722e-02,  2.4048e-02,  1.1651e-02,  5.2443e-03,\n",
      "         5.5718e-03, -2.9148e-02, -6.9927e-03, -2.2071e-02, -2.0356e-03,\n",
      "        -1.7433e-02,  1.0024e-02,  7.2580e-03,  1.2821e-02,  1.3000e-02,\n",
      "        -3.0732e-02,  1.2483e-03,  8.8563e-03, -3.1315e-03,  3.4463e-02,\n",
      "        -1.8745e-02, -7.4339e-03, -9.2243e-03, -9.6480e-03,  2.2330e-02,\n",
      "         1.0765e-02, -1.7787e-02, -3.7018e-03, -2.3643e-02,  3.0226e-02,\n",
      "        -3.4916e-02,  2.9225e-02, -2.3065e-02, -2.7721e-02,  3.0182e-02,\n",
      "        -1.6556e-02, -2.3642e-02, -8.6802e-03, -2.0297e-02,  1.8784e-02,\n",
      "        -4.8201e-03, -1.8876e-02,  2.4341e-02,  3.4551e-02,  9.0860e-03,\n",
      "         1.3387e-02, -1.6404e-02,  4.8556e-03,  2.6496e-03, -1.0184e-02,\n",
      "        -3.2031e-02,  8.7145e-03, -1.3314e-02,  1.9335e-02,  2.9079e-02,\n",
      "        -2.3874e-02, -2.9951e-02,  1.4260e-02, -2.3638e-02,  1.8134e-02,\n",
      "         1.4573e-02,  2.3145e-02,  2.1865e-03,  1.8326e-02,  3.3947e-02,\n",
      "        -3.4912e-02,  9.2217e-03,  3.4115e-02, -1.7761e-02, -1.5786e-02,\n",
      "        -3.2170e-02,  1.8286e-02,  1.7650e-02, -1.1069e-02,  1.3874e-02,\n",
      "        -1.2566e-02,  2.7395e-03, -1.7221e-02, -1.7774e-02, -2.1154e-02,\n",
      "        -5.8921e-04, -7.4743e-03, -1.7210e-02,  8.1562e-03,  3.5318e-02,\n",
      "         2.8153e-02, -2.5786e-02, -2.1123e-02, -1.9451e-02,  3.3010e-02,\n",
      "        -3.2928e-02, -9.5956e-03,  2.5122e-02, -1.8929e-02, -4.4375e-03,\n",
      "        -3.0666e-02, -1.3529e-03,  1.7184e-02, -1.8664e-03, -2.6819e-03,\n",
      "         1.9967e-02,  4.6077e-04, -1.0675e-02,  3.3280e-02,  8.6597e-03,\n",
      "        -1.6779e-02, -2.1241e-02, -1.8039e-02,  2.0280e-02, -2.0148e-02,\n",
      "         3.1118e-03,  2.9270e-02, -5.3832e-03, -1.2999e-03,  2.3430e-02,\n",
      "         3.9913e-03,  1.9594e-02,  5.9655e-03,  6.4900e-03,  5.5397e-03,\n",
      "        -3.8805e-04,  2.2178e-03, -2.9450e-02, -3.5633e-02,  3.5353e-02,\n",
      "        -2.1840e-02, -2.4169e-03], device='cuda:0', requires_grad=True)\n",
      "linear_relu_stack.2.weight torch.Size([256, 512]) Parameter containing:\n",
      "tensor([[-0.0110,  0.0177, -0.0135,  ..., -0.0253,  0.0360, -0.0160],\n",
      "        [-0.0023,  0.0308, -0.0112,  ...,  0.0120,  0.0347,  0.0420],\n",
      "        [ 0.0321, -0.0402,  0.0043,  ...,  0.0353, -0.0280,  0.0038],\n",
      "        ...,\n",
      "        [ 0.0265, -0.0022,  0.0042,  ..., -0.0192,  0.0136,  0.0288],\n",
      "        [ 0.0210,  0.0035,  0.0424,  ..., -0.0334, -0.0078,  0.0362],\n",
      "        [-0.0070, -0.0105, -0.0140,  ..., -0.0192,  0.0078, -0.0108]],\n",
      "       device='cuda:0', requires_grad=True)\n",
      "linear_relu_stack.2.bias torch.Size([256]) Parameter containing:\n",
      "tensor([ 0.0154, -0.0077, -0.0206, -0.0355, -0.0220,  0.0149,  0.0123,  0.0121,\n",
      "        -0.0309,  0.0378,  0.0390, -0.0322, -0.0075, -0.0056,  0.0175, -0.0069,\n",
      "        -0.0391,  0.0317,  0.0304,  0.0296, -0.0128,  0.0338,  0.0161,  0.0046,\n",
      "         0.0442, -0.0134,  0.0273, -0.0226,  0.0398,  0.0307, -0.0357, -0.0384,\n",
      "        -0.0119, -0.0341, -0.0360, -0.0326, -0.0261,  0.0427,  0.0196, -0.0373,\n",
      "        -0.0066, -0.0141, -0.0360,  0.0156, -0.0125, -0.0321, -0.0044,  0.0367,\n",
      "         0.0263,  0.0177,  0.0334,  0.0163,  0.0215, -0.0201, -0.0439, -0.0333,\n",
      "         0.0075,  0.0266, -0.0416,  0.0271, -0.0108, -0.0361, -0.0057,  0.0046,\n",
      "        -0.0061, -0.0321, -0.0269, -0.0318, -0.0272,  0.0179,  0.0029, -0.0093,\n",
      "         0.0196, -0.0155,  0.0196, -0.0091,  0.0137, -0.0146, -0.0215,  0.0129,\n",
      "        -0.0083, -0.0429,  0.0183,  0.0083,  0.0084, -0.0026, -0.0175, -0.0298,\n",
      "         0.0367,  0.0124, -0.0016, -0.0333,  0.0392, -0.0136, -0.0135, -0.0427,\n",
      "        -0.0141, -0.0431,  0.0105, -0.0319,  0.0322, -0.0364,  0.0392, -0.0307,\n",
      "         0.0369,  0.0376, -0.0040, -0.0375, -0.0241,  0.0323, -0.0076, -0.0358,\n",
      "         0.0331,  0.0373,  0.0285, -0.0428,  0.0101, -0.0396, -0.0100,  0.0233,\n",
      "         0.0440, -0.0096,  0.0313,  0.0441, -0.0286,  0.0292,  0.0106, -0.0374,\n",
      "        -0.0111,  0.0120,  0.0090, -0.0107, -0.0191,  0.0177,  0.0049, -0.0338,\n",
      "        -0.0065,  0.0074, -0.0428, -0.0131,  0.0063, -0.0414,  0.0025,  0.0013,\n",
      "         0.0184,  0.0400,  0.0354,  0.0176, -0.0419,  0.0256, -0.0212,  0.0380,\n",
      "         0.0128, -0.0343, -0.0268,  0.0204,  0.0071, -0.0346,  0.0302, -0.0077,\n",
      "         0.0146, -0.0106, -0.0278,  0.0219,  0.0365, -0.0038,  0.0425, -0.0328,\n",
      "         0.0405, -0.0260,  0.0225,  0.0092, -0.0302,  0.0020, -0.0169, -0.0171,\n",
      "        -0.0068,  0.0022, -0.0266, -0.0119, -0.0087, -0.0135, -0.0241, -0.0308,\n",
      "         0.0021,  0.0225,  0.0342, -0.0386, -0.0179, -0.0190,  0.0362,  0.0159,\n",
      "        -0.0181,  0.0039,  0.0193,  0.0080,  0.0269,  0.0250,  0.0403,  0.0104,\n",
      "         0.0082, -0.0394,  0.0398, -0.0189, -0.0391, -0.0313, -0.0227, -0.0393,\n",
      "         0.0117, -0.0209,  0.0253,  0.0422, -0.0197, -0.0088, -0.0434, -0.0197,\n",
      "        -0.0218,  0.0130, -0.0399, -0.0336,  0.0421,  0.0081, -0.0055,  0.0411,\n",
      "        -0.0181,  0.0417,  0.0386,  0.0089, -0.0135,  0.0221,  0.0198, -0.0376,\n",
      "        -0.0321,  0.0254,  0.0250, -0.0385, -0.0167,  0.0087, -0.0376,  0.0278,\n",
      "         0.0278, -0.0192, -0.0273, -0.0431,  0.0363,  0.0068,  0.0039, -0.0354,\n",
      "         0.0293,  0.0405, -0.0349, -0.0146,  0.0032,  0.0076,  0.0244, -0.0160],\n",
      "       device='cuda:0', requires_grad=True)\n",
      "linear_relu_stack.4.weight torch.Size([10, 256]) Parameter containing:\n",
      "tensor([[-0.0075,  0.0510, -0.0291,  ..., -0.0262, -0.0488, -0.0397],\n",
      "        [-0.0303, -0.0245, -0.0342,  ..., -0.0067, -0.0339, -0.0281],\n",
      "        [ 0.0500,  0.0323, -0.0215,  ..., -0.0081, -0.0166, -0.0523],\n",
      "        ...,\n",
      "        [ 0.0581, -0.0531, -0.0486,  ...,  0.0571, -0.0203, -0.0490],\n",
      "        [-0.0421,  0.0135,  0.0375,  ..., -0.0104, -0.0361, -0.0184],\n",
      "        [-0.0309, -0.0144, -0.0089,  ...,  0.0272, -0.0088, -0.0349]],\n",
      "       device='cuda:0', requires_grad=True)\n",
      "linear_relu_stack.4.bias torch.Size([10]) Parameter containing:\n",
      "tensor([ 0.0383,  0.0230,  0.0095, -0.0187, -0.0164, -0.0430,  0.0524, -0.0507,\n",
      "        -0.0028, -0.0156], device='cuda:0', requires_grad=True)\n"
     ]
    }
   ],
   "source": [
    "print(model.parameters())\n",
    "print(model.named_parameters())\n",
    "\n",
    "for name, param in model.named_parameters():\n",
    "    print(name, param.shape, param)"
   ]
  },
  {
   "cell_type": "markdown",
   "id": "95392bd4",
   "metadata": {},
   "source": [
    "### 5. Automatic Differentiation with Autograd\n",
    "Autograd: Built-in differentiation engine. Automatic computation of gradient for any computational graph <br>\n",
    "More [here](https://pytorch.org/docs/stable/autograd.html)"
   ]
  },
  {
   "cell_type": "code",
   "execution_count": 83,
   "id": "cd5e652a",
   "metadata": {},
   "outputs": [],
   "source": [
    "import torch\n",
    "\n",
    "x = torch.ones(5)\n",
    "y = torch.tensor([3,4,5], dtype = torch.float)\n",
    "w = torch.rand(5, 3, requires_grad = True)\n",
    "b = torch.rand(3, requires_grad = True)\n",
    "\n",
    "z = torch.matmul(x, w) + b\n",
    "\n",
    "loss = torch.nn.functional.binary_cross_entropy_with_logits(z, y)"
   ]
  },
  {
   "cell_type": "markdown",
   "id": "ec3f262c",
   "metadata": {},
   "source": [
    "A function that we apply to tensors to construct computational graph is in fact an object of class Function. This object knows how to compute the function in the forward direction, and also how to compute its derivative during the backward propagation step. A reference to the backward propagation function is stored in grad_fn property of a tensor."
   ]
  },
  {
   "cell_type": "code",
   "execution_count": 84,
   "id": "b847f2c0",
   "metadata": {},
   "outputs": [
    {
     "name": "stdout",
     "output_type": "stream",
     "text": [
      "The gradient function for z =  <AddBackward0 object at 0x7f5a9434feb0>\n",
      "The function for loss =  <BinaryCrossEntropyWithLogitsBackward0 object at 0x7f5a9434f7c0>\n"
     ]
    }
   ],
   "source": [
    "print(f'The gradient function for z = ', z.grad_fn)\n",
    "print(f'The function for loss = ', loss.grad_fn)"
   ]
  },
  {
   "cell_type": "markdown",
   "id": "f7850a7e",
   "metadata": {},
   "source": [
    "#### Computing Gradients"
   ]
  },
  {
   "cell_type": "code",
   "execution_count": 144,
   "id": "293a97b7",
   "metadata": {
    "scrolled": true
   },
   "outputs": [
    {
     "name": "stdout",
     "output_type": "stream",
     "text": [
      "tensor([[-40.7225, -60.5473, -80.4446],\n",
      "        [-40.7225, -60.5473, -80.4446],\n",
      "        [-40.7225, -60.5473, -80.4446],\n",
      "        [-40.7225, -60.5473, -80.4446],\n",
      "        [-40.7225, -60.5473, -80.4446]])\n",
      "tensor([-40.7225, -60.5473, -80.4446])\n"
     ]
    }
   ],
   "source": [
    "loss.backward(retain_graph = True)\n",
    "print(w.grad)\n",
    "print(b.grad)"
   ]
  },
  {
   "cell_type": "markdown",
   "id": "81040da4",
   "metadata": {},
   "source": [
    "- The grad properties are only stored for the variables which had the require_grad = True\n",
    "- We can perform backward calculations only once on a given graph, for several backward call on the same graph, put retain_graph = True\n",
    "\n",
    "But how is this working? As I run the above cell runs multiple times the values keep on increasing"
   ]
  },
  {
   "cell_type": "markdown",
   "id": "9e38602d",
   "metadata": {},
   "source": [
    "##### Disable Gradient Tracking\n",
    "Possible reasons for that: \n",
    "- Frozen parameters\n",
    "- Speed up computations"
   ]
  },
  {
   "cell_type": "code",
   "execution_count": 145,
   "id": "19211d0b",
   "metadata": {},
   "outputs": [
    {
     "name": "stdout",
     "output_type": "stream",
     "text": [
      "True\n",
      "False\n"
     ]
    }
   ],
   "source": [
    "z = torch.matmul(x, w) + b\n",
    "print(z.requires_grad)\n",
    "\n",
    "with torch.no_grad():\n",
    "    z = torch.matmul(x, w) + b\n",
    "print(z.requires_grad)"
   ]
  },
  {
   "cell_type": "code",
   "execution_count": 148,
   "id": "0ea8ad2f",
   "metadata": {},
   "outputs": [
    {
     "name": "stdout",
     "output_type": "stream",
     "text": [
      "True\n",
      "False\n"
     ]
    }
   ],
   "source": [
    "# can use detach also\n",
    "z = torch.matmul(x, w) + b\n",
    "print(z.requires_grad)\n",
    "\n",
    "z_det = z.detach()\n",
    "print(z_det.requires_grad)"
   ]
  },
  {
   "cell_type": "markdown",
   "id": "8df83371",
   "metadata": {},
   "source": [
    "##### Computational Graphs\n",
    "In a forward pass, autograd does two things simultaneously:\n",
    "\n",
    "- run the requested operation to compute a resulting tensor\n",
    "- maintain the operation’s gradient function in the DAG.\n",
    "\n",
    "The backward pass kicks off when .backward() is called on the DAG root. autograd then:\n",
    "\n",
    "- computes the gradients from each .grad_fn,\n",
    "- accumulates them in the respective tensor’s .grad attribute\n",
    "- using the chain rule, propagates all the way to the leaf tensors."
   ]
  },
  {
   "cell_type": "markdown",
   "id": "c0baad3b",
   "metadata": {},
   "source": [
    "---"
   ]
  },
  {
   "cell_type": "markdown",
   "id": "d866d870",
   "metadata": {},
   "source": [
    "### 6. Optimizing model parameters"
   ]
  },
  {
   "cell_type": "markdown",
   "id": "5b096083",
   "metadata": {},
   "source": [
    "##### Hyperparameters\n",
    "- Number of Epochs\n",
    "- Batch Size\n",
    "- Learning Rate\n",
    "\n",
    "More [here](https://pytorch.org/tutorials/beginner/hyperparameter_tuning_tutorial.html)"
   ]
  },
  {
   "cell_type": "code",
   "execution_count": 151,
   "id": "c03d7569",
   "metadata": {},
   "outputs": [],
   "source": [
    "learning_rate = 1e-3\n",
    "batch_size = 64\n",
    "epochs = 5"
   ]
  },
  {
   "cell_type": "markdown",
   "id": "e9a49287",
   "metadata": {},
   "source": [
    "##### Loss Function \n",
    "[nn.MSELoss](https://pytorch.org/docs/stable/generated/torch.nn.MSELoss.html#torch.nn.MSELoss) (Mean Square Error), [nn.NLLLoss](https://pytorch.org/docs/stable/generated/torch.nn.NLLLoss.html#torch.nn.NLLLoss) (Negative Likelihood Loss) <br>\n",
    "[nn.CrossEntropy](https://pytorch.org/docs/stable/generated/torch.nn.CrossEntropyLoss.html#torch.nn.CrossEntropyLoss) (Combines nn.LogSoftmax, nn.NLLLoss)"
   ]
  },
  {
   "cell_type": "code",
   "execution_count": 149,
   "id": "e99b8881",
   "metadata": {},
   "outputs": [],
   "source": [
    "loss_fn = nn.CrossEntropyLoss()"
   ]
  },
  {
   "cell_type": "markdown",
   "id": "3cefbe5c",
   "metadata": {},
   "source": [
    "##### Optimizer object\n",
    "Stochastic Gradient Descent, Adam, RMS Prop etc. <br>\n",
    "Optimization loop: train loop, test loop"
   ]
  },
  {
   "cell_type": "code",
   "execution_count": 152,
   "id": "7f5ae541",
   "metadata": {},
   "outputs": [],
   "source": [
    "optimizer = torch.optim.SGD(model.parameters(), lr = learning_rate)"
   ]
  },
  {
   "cell_type": "markdown",
   "id": "f5d6a873",
   "metadata": {},
   "source": [
    "Inside the training loop, optimization happens in three steps:\n",
    "- Call optimizer.zero_grad() - reset the gradients of model parameters. Gradients by default add up; to prevent double-counting, we explicitly zero them at each iteration.\n",
    "- Backpropagate the prediction loss with a call to loss.backward(). PyTorch deposits the gradients of the loss w.r.t. each parameter.\n",
    "- Once we have our gradients, we call optimizer.step() to adjust the parameters by the gradients collected in the backward pass."
   ]
  },
  {
   "cell_type": "code",
   "execution_count": 213,
   "id": "0510b275",
   "metadata": {},
   "outputs": [],
   "source": [
    "# training loop\n",
    "def train_loop(dataloader, model, loss_fn, optimizer):\n",
    "    size = len(dataloader.dataset)\n",
    "    for batch, (X, y) in enumerate(dataloader):\n",
    "        X = X.to(device)\n",
    "        y = y.to(device)\n",
    "        pred = model(X)\n",
    "        loss = loss_fn(pred, y)\n",
    "        \n",
    "        #backprop\n",
    "        optimizer.zero_grad()\n",
    "        loss.backward()\n",
    "        optimizer.step()\n",
    "        \n",
    "        if batch % 100 == 0:\n",
    "            loss, current = loss.item(), batch * len(X)\n",
    "            print(f'\\nLoss: {loss:>7f} [{current}/{size}] \\n')\n",
    "            \n",
    "def test_loop(dataloader, model, loss_fn):\n",
    "    size = len(dataloader.dataset)\n",
    "    num_batches = len(dataloader)\n",
    "    test_loss, correct = 0, 0\n",
    "    \n",
    "    with torch.no_grad():\n",
    "        for X, y in dataloader:\n",
    "            X = X.to(device)\n",
    "            y = y.to(device)\n",
    "            pred = model(X)\n",
    "            test_loss += loss_fn(pred, y).item()\n",
    "            correct += (pred.argmax(1) == y).type(torch.float).sum().item()\n",
    "            \n",
    "    test_loss /= num_batches\n",
    "    correct /= size\n",
    "    print(f'Test: \\n Accuracy: {correct}, Loss: {test_loss}\\n')"
   ]
  },
  {
   "cell_type": "code",
   "execution_count": 215,
   "id": "d2145467",
   "metadata": {
    "scrolled": true
   },
   "outputs": [
    {
     "name": "stdout",
     "output_type": "stream",
     "text": [
      "Epoch 1: \n",
      "---------------------------\n",
      "Loss: 0.741353 [0/60000]\n",
      "Loss: 0.806062 [6400/60000]\n",
      "Loss: 0.733940 [12800/60000]\n",
      "Loss: 0.760040 [19200/60000]\n",
      "Loss: 0.649689 [25600/60000]\n",
      "Loss: 0.661684 [32000/60000]\n",
      "Loss: 0.826187 [38400/60000]\n",
      "Loss: 0.793870 [44800/60000]\n",
      "Loss: 0.711397 [51200/60000]\n",
      "Loss: 0.683152 [57600/60000]\n",
      "Test: Accuracy: 0.729, Loss: 0.7474498251441178\n",
      "Epoch 2: \n",
      "---------------------------\n",
      "Loss: 0.703243 [0/60000]\n",
      "Loss: 0.664199 [6400/60000]\n",
      "Loss: 0.751701 [12800/60000]\n",
      "Loss: 0.579782 [19200/60000]\n",
      "Loss: 0.644440 [25600/60000]\n",
      "Loss: 0.721614 [32000/60000]\n",
      "Loss: 0.694376 [38400/60000]\n",
      "Loss: 0.923464 [44800/60000]\n",
      "Loss: 0.637776 [51200/60000]\n",
      "Loss: 0.650652 [57600/60000]\n",
      "Test: Accuracy: 0.7403, Loss: 0.7287175689533258\n",
      "Epoch 3: \n",
      "---------------------------\n",
      "Loss: 0.693107 [0/60000]\n",
      "Loss: 0.671543 [6400/60000]\n",
      "Loss: 0.841840 [12800/60000]\n",
      "Loss: 0.514610 [19200/60000]\n",
      "Loss: 0.916692 [25600/60000]\n",
      "Loss: 0.625257 [32000/60000]\n",
      "Loss: 0.777417 [38400/60000]\n",
      "Loss: 0.591252 [44800/60000]\n",
      "Loss: 0.583187 [51200/60000]\n",
      "Loss: 0.730482 [57600/60000]\n",
      "Test: Accuracy: 0.751, Loss: 0.7112487248933999\n",
      "Epoch 4: \n",
      "---------------------------\n",
      "Loss: 0.636038 [0/60000]\n",
      "Loss: 0.546176 [6400/60000]\n",
      "Loss: 0.615427 [12800/60000]\n",
      "Loss: 0.587432 [19200/60000]\n",
      "Loss: 0.627435 [25600/60000]\n",
      "Loss: 0.704706 [32000/60000]\n",
      "Loss: 0.739068 [38400/60000]\n",
      "Loss: 1.072648 [44800/60000]\n",
      "Loss: 0.660721 [51200/60000]\n",
      "Loss: 0.649454 [57600/60000]\n",
      "Test: Accuracy: 0.7592, Loss: 0.6939855840555422\n",
      "Epoch 5: \n",
      "---------------------------\n",
      "Loss: 0.755963 [0/60000]\n",
      "Loss: 0.658011 [6400/60000]\n",
      "Loss: 0.725275 [12800/60000]\n",
      "Loss: 0.730538 [19200/60000]\n",
      "Loss: 0.641762 [25600/60000]\n",
      "Loss: 0.656913 [32000/60000]\n",
      "Loss: 0.618801 [38400/60000]\n",
      "Loss: 0.581726 [44800/60000]\n",
      "Loss: 0.776962 [51200/60000]\n",
      "Loss: 0.763084 [57600/60000]\n",
      "Test: Accuracy: 0.766, Loss: 0.6769789755344391\n",
      "Done!! Congo!!\n"
     ]
    }
   ],
   "source": [
    "loss_fn = nn.CrossEntropyLoss()\n",
    "optimizer = torch.optim.SGD(model.parameters(), lr = learning_rate)\n",
    "\n",
    "epochs = 5\n",
    "for t in range(epochs):\n",
    "    print(f'Epoch {t+1}: \\n---------------------------')\n",
    "    train_loop(train_dl, model, loss_fn, optimizer)\n",
    "    test_loop(test_dl, model, loss_fn)\n",
    "print('Done!! Congo!!')"
   ]
  },
  {
   "cell_type": "markdown",
   "id": "681a6860",
   "metadata": {},
   "source": [
    "---"
   ]
  },
  {
   "cell_type": "markdown",
   "id": "f5cb2d9d",
   "metadata": {},
   "source": [
    "### 7. Save and Load the model"
   ]
  },
  {
   "cell_type": "code",
   "execution_count": 1,
   "id": "29cfad82",
   "metadata": {},
   "outputs": [],
   "source": [
    "import torch\n",
    "import torchvision.models as models"
   ]
  },
  {
   "cell_type": "code",
   "execution_count": 17,
   "id": "68055d45",
   "metadata": {
    "scrolled": true
   },
   "outputs": [
    {
     "data": {
      "text/plain": [
       "tensor([[[-0.5537,  0.1427,  0.5290],\n",
       "         [-0.5831,  0.3566,  0.7657],\n",
       "         [-0.6902, -0.0480,  0.4841]],\n",
       "\n",
       "        [[ 0.1755,  0.0099, -0.0814],\n",
       "         [ 0.0441, -0.0703, -0.2604],\n",
       "         [ 0.1324, -0.1728, -0.1323]],\n",
       "\n",
       "        [[ 0.3130, -0.1659, -0.4275],\n",
       "         [ 0.4752, -0.0827, -0.4870],\n",
       "         [ 0.6320,  0.0193, -0.2775]]])"
      ]
     },
     "execution_count": 17,
     "metadata": {},
     "output_type": "execute_result"
    }
   ],
   "source": [
    "model = models.vgg16(pretrained = True)\n",
    "type(model.state_dict())\n",
    "model.state_dict()['features.0.weight'][0]"
   ]
  },
  {
   "cell_type": "code",
   "execution_count": 227,
   "id": "d4888cb3",
   "metadata": {},
   "outputs": [],
   "source": [
    "torch.save(model.state_dict(), 'model_weights.pth')"
   ]
  },
  {
   "cell_type": "code",
   "execution_count": 23,
   "id": "0d9f6a55",
   "metadata": {
    "scrolled": true
   },
   "outputs": [
    {
     "name": "stdout",
     "output_type": "stream",
     "text": [
      "Model random weights before:\n",
      "\n",
      "tensor([[[ 0.0320, -0.1000,  0.0665],\n",
      "         [-0.0253,  0.0372, -0.0449],\n",
      "         [ 0.0155,  0.0031, -0.0331]],\n",
      "\n",
      "        [[ 0.0108, -0.0420,  0.0289],\n",
      "         [ 0.0208, -0.0038, -0.0936],\n",
      "         [ 0.0251,  0.0560,  0.0324]],\n",
      "\n",
      "        [[ 0.0448,  0.0154,  0.0143],\n",
      "         [-0.0248, -0.0149, -0.0700],\n",
      "         [ 0.0437,  0.0152, -0.1284]]])\n",
      "\n",
      "VGG model weight after:\n",
      "\n",
      "tensor([[[-0.5537,  0.1427,  0.5290],\n",
      "         [-0.5831,  0.3566,  0.7657],\n",
      "         [-0.6902, -0.0480,  0.4841]],\n",
      "\n",
      "        [[ 0.1755,  0.0099, -0.0814],\n",
      "         [ 0.0441, -0.0703, -0.2604],\n",
      "         [ 0.1324, -0.1728, -0.1323]],\n",
      "\n",
      "        [[ 0.3130, -0.1659, -0.4275],\n",
      "         [ 0.4752, -0.0827, -0.4870],\n",
      "         [ 0.6320,  0.0193, -0.2775]]])\n"
     ]
    }
   ],
   "source": [
    "model = models.vgg16()\n",
    "print(f'Model random weights before:\\n\\n{model.state_dict()[\"features.0.weight\"][0]}\\n')\n",
    "model.load_state_dict(torch.load('model_weights.pth'))\n",
    "print(f'VGG model weight after:\\n\\n{model.state_dict()[\"features.0.weight\"][0]}')"
   ]
  },
  {
   "cell_type": "code",
   "execution_count": 24,
   "id": "522ded7b",
   "metadata": {
    "scrolled": true
   },
   "outputs": [
    {
     "data": {
      "text/plain": [
       "VGG(\n",
       "  (features): Sequential(\n",
       "    (0): Conv2d(3, 64, kernel_size=(3, 3), stride=(1, 1), padding=(1, 1))\n",
       "    (1): ReLU(inplace=True)\n",
       "    (2): Conv2d(64, 64, kernel_size=(3, 3), stride=(1, 1), padding=(1, 1))\n",
       "    (3): ReLU(inplace=True)\n",
       "    (4): MaxPool2d(kernel_size=2, stride=2, padding=0, dilation=1, ceil_mode=False)\n",
       "    (5): Conv2d(64, 128, kernel_size=(3, 3), stride=(1, 1), padding=(1, 1))\n",
       "    (6): ReLU(inplace=True)\n",
       "    (7): Conv2d(128, 128, kernel_size=(3, 3), stride=(1, 1), padding=(1, 1))\n",
       "    (8): ReLU(inplace=True)\n",
       "    (9): MaxPool2d(kernel_size=2, stride=2, padding=0, dilation=1, ceil_mode=False)\n",
       "    (10): Conv2d(128, 256, kernel_size=(3, 3), stride=(1, 1), padding=(1, 1))\n",
       "    (11): ReLU(inplace=True)\n",
       "    (12): Conv2d(256, 256, kernel_size=(3, 3), stride=(1, 1), padding=(1, 1))\n",
       "    (13): ReLU(inplace=True)\n",
       "    (14): Conv2d(256, 256, kernel_size=(3, 3), stride=(1, 1), padding=(1, 1))\n",
       "    (15): ReLU(inplace=True)\n",
       "    (16): MaxPool2d(kernel_size=2, stride=2, padding=0, dilation=1, ceil_mode=False)\n",
       "    (17): Conv2d(256, 512, kernel_size=(3, 3), stride=(1, 1), padding=(1, 1))\n",
       "    (18): ReLU(inplace=True)\n",
       "    (19): Conv2d(512, 512, kernel_size=(3, 3), stride=(1, 1), padding=(1, 1))\n",
       "    (20): ReLU(inplace=True)\n",
       "    (21): Conv2d(512, 512, kernel_size=(3, 3), stride=(1, 1), padding=(1, 1))\n",
       "    (22): ReLU(inplace=True)\n",
       "    (23): MaxPool2d(kernel_size=2, stride=2, padding=0, dilation=1, ceil_mode=False)\n",
       "    (24): Conv2d(512, 512, kernel_size=(3, 3), stride=(1, 1), padding=(1, 1))\n",
       "    (25): ReLU(inplace=True)\n",
       "    (26): Conv2d(512, 512, kernel_size=(3, 3), stride=(1, 1), padding=(1, 1))\n",
       "    (27): ReLU(inplace=True)\n",
       "    (28): Conv2d(512, 512, kernel_size=(3, 3), stride=(1, 1), padding=(1, 1))\n",
       "    (29): ReLU(inplace=True)\n",
       "    (30): MaxPool2d(kernel_size=2, stride=2, padding=0, dilation=1, ceil_mode=False)\n",
       "  )\n",
       "  (avgpool): AdaptiveAvgPool2d(output_size=(7, 7))\n",
       "  (classifier): Sequential(\n",
       "    (0): Linear(in_features=25088, out_features=4096, bias=True)\n",
       "    (1): ReLU(inplace=True)\n",
       "    (2): Dropout(p=0.5, inplace=False)\n",
       "    (3): Linear(in_features=4096, out_features=4096, bias=True)\n",
       "    (4): ReLU(inplace=True)\n",
       "    (5): Dropout(p=0.5, inplace=False)\n",
       "    (6): Linear(in_features=4096, out_features=1000, bias=True)\n",
       "  )\n",
       ")"
      ]
     },
     "execution_count": 24,
     "metadata": {},
     "output_type": "execute_result"
    }
   ],
   "source": [
    "# still not sure what does model.eval() do\n",
    "model.eval()\n",
    "# to set dropout and batch normalization layers to evaluation mode"
   ]
  },
  {
   "cell_type": "markdown",
   "id": "a1904b59",
   "metadata": {},
   "source": [
    "##### Loading and saving models with shapes"
   ]
  },
  {
   "cell_type": "code",
   "execution_count": 25,
   "id": "61eee76b",
   "metadata": {},
   "outputs": [],
   "source": [
    "# saves the entire class definition\n",
    "torch.save(model, 'model.pth')"
   ]
  },
  {
   "cell_type": "code",
   "execution_count": 26,
   "id": "bf034b69",
   "metadata": {},
   "outputs": [],
   "source": [
    "model = torch.load('model.pth')"
   ]
  },
  {
   "cell_type": "code",
   "execution_count": null,
   "id": "9dfb127c",
   "metadata": {},
   "outputs": [],
   "source": []
  },
  {
   "cell_type": "code",
   "execution_count": null,
   "id": "69794b44",
   "metadata": {},
   "outputs": [],
   "source": []
  },
  {
   "cell_type": "code",
   "execution_count": null,
   "id": "398155c4",
   "metadata": {},
   "outputs": [],
   "source": []
  }
 ],
 "metadata": {
  "kernelspec": {
   "display_name": "Python 3 (ipykernel)",
   "language": "python",
   "name": "python3"
  },
  "language_info": {
   "codemirror_mode": {
    "name": "ipython",
    "version": 3
   },
   "file_extension": ".py",
   "mimetype": "text/x-python",
   "name": "python",
   "nbconvert_exporter": "python",
   "pygments_lexer": "ipython3",
   "version": "3.9.7"
  }
 },
 "nbformat": 4,
 "nbformat_minor": 5
}
