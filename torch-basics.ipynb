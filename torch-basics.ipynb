{
 "cells": [
  {
   "cell_type": "code",
   "execution_count": 3,
   "id": "d779c3eb",
   "metadata": {},
   "outputs": [],
   "source": [
    "import torch\n",
    "import numpy as np"
   ]
  },
  {
   "cell_type": "markdown",
   "id": "d4891f2e",
   "metadata": {},
   "source": [
    "Check if torch package is installed"
   ]
  },
  {
   "cell_type": "code",
   "execution_count": 7,
   "id": "43018925",
   "metadata": {},
   "outputs": [],
   "source": [
    "x = torch.rand(5, 3)"
   ]
  },
  {
   "cell_type": "code",
   "execution_count": 8,
   "id": "eb4385de",
   "metadata": {},
   "outputs": [
    {
     "data": {
      "text/plain": [
       "tensor([[0.2805, 0.0697, 0.3695],\n",
       "        [0.3639, 0.2688, 0.1976],\n",
       "        [0.7734, 0.3567, 0.5619],\n",
       "        [0.3607, 0.6809, 0.9288],\n",
       "        [0.8898, 0.9437, 0.8421]])"
      ]
     },
     "execution_count": 8,
     "metadata": {},
     "output_type": "execute_result"
    }
   ],
   "source": [
    "x"
   ]
  },
  {
   "cell_type": "markdown",
   "id": "19c4dbb0",
   "metadata": {},
   "source": [
    "## Basics"
   ]
  },
  {
   "cell_type": "markdown",
   "id": "142595ab",
   "metadata": {},
   "source": [
    "### 1. Tensors"
   ]
  },
  {
   "cell_type": "markdown",
   "id": "d33bcfb4",
   "metadata": {},
   "source": [
    "#### Initializing a tensor"
   ]
  },
  {
   "cell_type": "code",
   "execution_count": 10,
   "id": "d3695e5a",
   "metadata": {},
   "outputs": [],
   "source": [
    "x = [[1, 2], [3, 4]]"
   ]
  },
  {
   "cell_type": "code",
   "execution_count": 14,
   "id": "ed02f618",
   "metadata": {},
   "outputs": [
    {
     "name": "stdout",
     "output_type": "stream",
     "text": [
      "<class 'torch.Tensor'>\n"
     ]
    },
    {
     "data": {
      "text/plain": [
       "tensor([[1, 2],\n",
       "        [3, 4]])"
      ]
     },
     "execution_count": 14,
     "metadata": {},
     "output_type": "execute_result"
    }
   ],
   "source": [
    "xt = torch.tensor(x)\n",
    "print(type(xt))\n",
    "xt"
   ]
  },
  {
   "cell_type": "code",
   "execution_count": 15,
   "id": "d9c1fac4",
   "metadata": {},
   "outputs": [
    {
     "name": "stdout",
     "output_type": "stream",
     "text": [
      "<class 'torch.Tensor'>\n"
     ]
    },
    {
     "data": {
      "text/plain": [
       "tensor([[1, 2],\n",
       "        [3, 4]])"
      ]
     },
     "execution_count": 15,
     "metadata": {},
     "output_type": "execute_result"
    }
   ],
   "source": [
    "xnp = np.array(x)\n",
    "xt = torch.from_numpy(xnp)\n",
    "print(type(xt))\n",
    "xt"
   ]
  },
  {
   "cell_type": "code",
   "execution_count": 17,
   "id": "7668de59",
   "metadata": {},
   "outputs": [
    {
     "data": {
      "text/plain": [
       "tensor([[1, 1],\n",
       "        [1, 1]])"
      ]
     },
     "execution_count": 17,
     "metadata": {},
     "output_type": "execute_result"
    }
   ],
   "source": [
    "x_ones = torch.ones_like(xt)\n",
    "x_ones"
   ]
  },
  {
   "cell_type": "code",
   "execution_count": 20,
   "id": "697dd272",
   "metadata": {},
   "outputs": [
    {
     "data": {
      "text/plain": [
       "tensor([[0.7117, 0.4178],\n",
       "        [0.9631, 0.3451]])"
      ]
     },
     "execution_count": 20,
     "metadata": {},
     "output_type": "execute_result"
    }
   ],
   "source": [
    "x_rand = torch.rand_like(xt, dtype = torch.float)\n",
    "x_rand"
   ]
  },
  {
   "cell_type": "code",
   "execution_count": 23,
   "id": "44c63bcd",
   "metadata": {},
   "outputs": [],
   "source": [
    "rand_t = torch.rand(5, 3)\n",
    "ones_t = torch.ones(4, 5)\n",
    "zeros_t = torch.zeros(1, 3)"
   ]
  },
  {
   "cell_type": "markdown",
   "id": "1ef3dfe1",
   "metadata": {},
   "source": [
    "#### Attributes of a tensor\n",
    "More [here](https://pytorch.org/docs/stable/tensor_attributes.html)"
   ]
  },
  {
   "cell_type": "code",
   "execution_count": 24,
   "id": "e9124470",
   "metadata": {},
   "outputs": [
    {
     "data": {
      "text/plain": [
       "torch.Size([2, 2])"
      ]
     },
     "execution_count": 24,
     "metadata": {},
     "output_type": "execute_result"
    }
   ],
   "source": [
    "xt.shape"
   ]
  },
  {
   "cell_type": "code",
   "execution_count": 25,
   "id": "ff21c85a",
   "metadata": {},
   "outputs": [
    {
     "data": {
      "text/plain": [
       "device(type='cpu')"
      ]
     },
     "execution_count": 25,
     "metadata": {},
     "output_type": "execute_result"
    }
   ],
   "source": [
    "xt.device"
   ]
  },
  {
   "cell_type": "code",
   "execution_count": 26,
   "id": "e6834b1e",
   "metadata": {},
   "outputs": [
    {
     "data": {
      "text/plain": [
       "torch.int64"
      ]
     },
     "execution_count": 26,
     "metadata": {},
     "output_type": "execute_result"
    }
   ],
   "source": [
    "xt.dtype"
   ]
  },
  {
   "cell_type": "markdown",
   "id": "d5659814",
   "metadata": {},
   "source": [
    "#### Operations on tensors\n",
    "More [here](https://pytorch.org/docs/stable/torch.html)"
   ]
  },
  {
   "cell_type": "code",
   "execution_count": 29,
   "id": "98af5d9a",
   "metadata": {},
   "outputs": [],
   "source": [
    "# moving tensor to the GPU if available\n",
    "if torch.cuda.is_available():\n",
    "    xt = xt.to('cuda')"
   ]
  },
  {
   "cell_type": "code",
   "execution_count": 30,
   "id": "9acbbcd7",
   "metadata": {},
   "outputs": [
    {
     "data": {
      "text/plain": [
       "device(type='cuda', index=0)"
      ]
     },
     "execution_count": 30,
     "metadata": {},
     "output_type": "execute_result"
    }
   ],
   "source": [
    "xt.device"
   ]
  },
  {
   "cell_type": "code",
   "execution_count": 33,
   "id": "f5bc500c",
   "metadata": {},
   "outputs": [
    {
     "name": "stdout",
     "output_type": "stream",
     "text": [
      "tensor([3, 4], device='cuda:0')\n",
      "tensor([2, 4], device='cuda:0')\n"
     ]
    }
   ],
   "source": [
    "# numpy like slicing annd indexing\n",
    "print(xt[1])\n",
    "print(xt[:, 1])"
   ]
  },
  {
   "cell_type": "code",
   "execution_count": 42,
   "id": "f247d7c6",
   "metadata": {},
   "outputs": [
    {
     "name": "stdout",
     "output_type": "stream",
     "text": [
      "tensor([[1.0000, 1.0000, 0.7117, 0.4178],\n",
      "        [1.0000, 1.0000, 0.9631, 0.3451]])\n",
      "tensor([[1.0000, 1.0000],\n",
      "        [1.0000, 1.0000],\n",
      "        [0.7117, 0.4178],\n",
      "        [0.9631, 0.3451]])\n"
     ]
    }
   ],
   "source": [
    "# joining tensors\n",
    "t1 = torch.cat([x_ones, x_rand], dim = 1)\n",
    "print(t1)\n",
    "t2 = torch.cat([x_ones, x_rand], dim = 0)\n",
    "print(t2)"
   ]
  },
  {
   "cell_type": "code",
   "execution_count": 53,
   "id": "a528e0b2",
   "metadata": {},
   "outputs": [
    {
     "name": "stdout",
     "output_type": "stream",
     "text": [
      "tensor([[0.7136, 0.1295, 0.6589],\n",
      "        [0.1183, 0.7355, 0.3881]])\n",
      "tensor([[0.9602, 0.4354],\n",
      "        [0.4354, 0.7056]])\n",
      "tensor([[0.9602, 0.4354],\n",
      "        [0.4354, 0.7056]])\n",
      "tensor([[0.9602, 0.4354],\n",
      "        [0.4354, 0.7056]])\n",
      "tensor([[0.5093, 0.0168, 0.4342],\n",
      "        [0.0140, 0.5410, 0.1507]])\n",
      "tensor([[0.5093, 0.0168, 0.4342],\n",
      "        [0.0140, 0.5410, 0.1507]])\n"
     ]
    }
   ],
   "source": [
    "# arithmetic operations\n",
    "t = torch.rand(2, 3)\n",
    "print(t)\n",
    "\n",
    "# matrix multiplication\n",
    "y1 = t @ t.T; print(y1)\n",
    "y2 = t.matmul(t.T); print(y2)\n",
    "y3 = torch.matmul(t, t.T); print(y3)\n",
    "\n",
    "# element wise product\n",
    "z1 = t * t ; print(z1)\n",
    "z2 = t.mul(t); print(z2)"
   ]
  },
  {
   "cell_type": "code",
   "execution_count": 61,
   "id": "8edcd02e",
   "metadata": {},
   "outputs": [
    {
     "name": "stdout",
     "output_type": "stream",
     "text": [
      "0.8229666948318481\n",
      "tensor([[0.5133],\n",
      "        [0.3222],\n",
      "        [0.0692],\n",
      "        [0.5482],\n",
      "        [0.3878]])\n",
      "tensor([[4.5133],\n",
      "        [4.3222],\n",
      "        [4.0692],\n",
      "        [4.5482],\n",
      "        [4.3878]])\n"
     ]
    }
   ],
   "source": [
    "# single element tensor\n",
    "t = torch.rand(5, 1)\n",
    "y = t.T @ t\n",
    "print(y.item())\n",
    "\n",
    "# inplace operations\n",
    "print(t)\n",
    "t.add_(4)\n",
    "print(t)"
   ]
  },
  {
   "cell_type": "markdown",
   "id": "44725ab5",
   "metadata": {},
   "source": [
    "### 2. Datasets and DataLoaders"
   ]
  },
  {
   "cell_type": "markdown",
   "id": "78ecbf06",
   "metadata": {},
   "source": [
    "Datasets: torch.utils.data.Dataset <br>\n",
    "Dataloader: torch.utils.data.Dataloader"
   ]
  },
  {
   "cell_type": "markdown",
   "id": "cc0220da",
   "metadata": {},
   "source": [
    "#### Loading a DataSet"
   ]
  },
  {
   "cell_type": "code",
   "execution_count": 4,
   "id": "ec042638",
   "metadata": {},
   "outputs": [],
   "source": [
    "import torch\n",
    "from torch.utils.data import Dataset\n",
    "from torchvision import datasets\n",
    "from torchvision.transforms import ToTensor"
   ]
  },
  {
   "cell_type": "code",
   "execution_count": 12,
   "id": "d4e5b830",
   "metadata": {
    "scrolled": true
   },
   "outputs": [],
   "source": [
    "training = datasets.FashionMNIST(root = 'data', train = True, download = True, transform = ToTensor())\n",
    "#training = datasets.FashionMNIST(root = 'data', train = True, download = True)"
   ]
  },
  {
   "cell_type": "code",
   "execution_count": 7,
   "id": "2bce7419",
   "metadata": {},
   "outputs": [
    {
     "data": {
      "text/plain": [
       "torchvision.datasets.mnist.FashionMNIST"
      ]
     },
     "execution_count": 7,
     "metadata": {},
     "output_type": "execute_result"
    }
   ],
   "source": [
    "type(training)"
   ]
  },
  {
   "cell_type": "code",
   "execution_count": 18,
   "id": "36a0f702",
   "metadata": {},
   "outputs": [],
   "source": [
    "test = datasets.FashionMNIST(root = 'data', train = False, download = True, transform = ToTensor())"
   ]
  },
  {
   "cell_type": "code",
   "execution_count": 9,
   "id": "cc0d8ac6",
   "metadata": {},
   "outputs": [
    {
     "data": {
      "text/plain": [
       "torchvision.datasets.mnist.FashionMNIST"
      ]
     },
     "execution_count": 9,
     "metadata": {},
     "output_type": "execute_result"
    }
   ],
   "source": [
    "type(test)"
   ]
  },
  {
   "cell_type": "markdown",
   "id": "7c4a5de8",
   "metadata": {},
   "source": [
    "#### Iterating and Visualizing Dataset"
   ]
  },
  {
   "cell_type": "code",
   "execution_count": 11,
   "id": "fe943c0a",
   "metadata": {},
   "outputs": [
    {
     "data": {
      "text/plain": [
       "(<PIL.Image.Image image mode=L size=28x28 at 0x7FA2FC6A2220>, 0)"
      ]
     },
     "execution_count": 11,
     "metadata": {},
     "output_type": "execute_result"
    }
   ],
   "source": [
    "training[1] # gives image and label"
   ]
  },
  {
   "cell_type": "code",
   "execution_count": 13,
   "id": "462ee7e8",
   "metadata": {
    "scrolled": true
   },
   "outputs": [
    {
     "data": {
      "image/png": "[encoded data removed]",
      "text/plain": [
       "<Figure size 432x288 with 9 Axes>"
      ]
     },
     "metadata": {
      "needs_background": "light"
     },
     "output_type": "display_data"
    }
   ],
   "source": [
    "import matplotlib.pyplot as plt\n",
    "labels = ['T-shirt/top', 'Trouser', 'Pullover', 'Dress', 'Coat', 'Sandal', 'Shirt', 'Sneaker', 'Bag', 'Ankle boot']\n",
    "fig, ax = plt.subplots(3, 3)\n",
    "ax = ax.flatten()\n",
    "n = len(training)\n",
    "for i in range(9):\n",
    "    idx = torch.randint(0, n, size = (1,)).item()\n",
    "    img, l = training[idx]\n",
    "    ax[i].imshow(img.squeeze(), cmap = 'gray')\n",
    "    ax[i].set_title(labels[l])\n",
    "plt.tight_layout()\n",
    "plt.show()"
   ]
  },
  {
   "cell_type": "markdown",
   "id": "48f66e44",
   "metadata": {},
   "source": [
    "#### Creating a custom Dataset for your files"
   ]
  },
  {
   "cell_type": "code",
   "execution_count": 8,
   "id": "d388125f",
   "metadata": {},
   "outputs": [],
   "source": [
    "import os\n",
    "import pandas as pd\n",
    "from torchvision.io import read_image"
   ]
  },
  {
   "cell_type": "code",
   "execution_count": 14,
   "id": "72702c5f",
   "metadata": {},
   "outputs": [],
   "source": [
    "class CustomImageDataset(Dataset):\n",
    "    def __init__(self, annotations_file, img_dir, transform = None, target_transform = None):\n",
    "        self.img_labels = pd.read_csv(annotations_file)\n",
    "        self.img_dir = img_dir\n",
    "        self.transfrom = transform\n",
    "        self.target_transform = target_transfotrm\n",
    "    \n",
    "    def __len__(self):\n",
    "        return len(self.labels)\n",
    "    \n",
    "    def __getitem__(self, idx):\n",
    "        img_path = os.path.join(self.img_dir, self.img_labels.iloc[idx, 0])\n",
    "        image = read_image(img_path)\n",
    "        label = self.img_labels.iloc[idx, 1]\n",
    "        if self.transform:\n",
    "            image = self.transform(image)\n",
    "        if self.target_transform:\n",
    "            label = self.target_transform(label)\n",
    "        return image, label"
   ]
  },
  {
   "cell_type": "markdown",
   "id": "b35047d1",
   "metadata": {},
   "source": [
    "#### Prepapring your data for training using Dataloaders"
   ]
  },
  {
   "cell_type": "code",
   "execution_count": 16,
   "id": "28a873e3",
   "metadata": {},
   "outputs": [],
   "source": [
    "from torch.utils.data import DataLoader"
   ]
  },
  {
   "cell_type": "code",
   "execution_count": 19,
   "id": "af8e4f9a",
   "metadata": {},
   "outputs": [],
   "source": [
    "train_dl = DataLoader(training, batch_size = 64, shuffle = True)\n",
    "test_dl = DataLoader(test, batch_size = 64, shuffle = True)"
   ]
  },
  {
   "cell_type": "markdown",
   "id": "bcb443a3",
   "metadata": {},
   "source": [
    "#### Iterate through a DataLoader\n",
    "More [here](https://pytorch.org/docs/stable/data.html)"
   ]
  },
  {
   "cell_type": "code",
   "execution_count": 35,
   "id": "91d8002b",
   "metadata": {},
   "outputs": [
    {
     "name": "stdout",
     "output_type": "stream",
     "text": [
      "<class 'torch.Tensor'>\n",
      "torch.Size([64, 1, 28, 28])\n",
      "<class 'torch.Tensor'>\n",
      "torch.Size([64])\n"
     ]
    },
    {
     "data": {
      "text/plain": [
       "Text(0.5, 1.0, 'tensor(8)')"
      ]
     },
     "execution_count": 35,
     "metadata": {},
     "output_type": "execute_result"
    },
    {
     "data": {
      "image/png": "[encoded data removed]",
      "text/plain": [
       "<Figure size 432x288 with 1 Axes>"
      ]
     },
     "metadata": {
      "needs_background": "light"
     },
     "output_type": "display_data"
    }
   ],
   "source": [
    "train_features, train_labels = next(iter(train_dl))\n",
    "print(type(train_features))\n",
    "print(train_features.shape)\n",
    "\n",
    "print(type(train_labels))\n",
    "print(train_labels.shape)\n",
    "\n",
    "#showing an image\n",
    "img = train_features[0].squeeze()\n",
    "label = train_labels[0]\n",
    "\n",
    "plt.imshow(img, cmap = 'gray')\n",
    "plt.title(label)"
   ]
  },
  {
   "cell_type": "code",
   "execution_count": null,
   "id": "533284ab",
   "metadata": {},
   "outputs": [],
   "source": []
  },
  {
   "cell_type": "code",
   "execution_count": null,
   "id": "10fbbda9",
   "metadata": {},
   "outputs": [],
   "source": []
  },
  {
   "cell_type": "code",
   "execution_count": null,
   "id": "fa73b7fd",
   "metadata": {},
   "outputs": [],
   "source": []
  },
  {
   "cell_type": "code",
   "execution_count": null,
   "id": "b1634935",
   "metadata": {},
   "outputs": [],
   "source": []
  },
  {
   "cell_type": "code",
   "execution_count": null,
   "id": "e2aca09f",
   "metadata": {},
   "outputs": [],
   "source": []
  },
  {
   "cell_type": "code",
   "execution_count": null,
   "id": "76e396c6",
   "metadata": {},
   "outputs": [],
   "source": []
  }
 ],
 "metadata": {
  "kernelspec": {
   "display_name": "Python 3 (ipykernel)",
   "language": "python",
   "name": "python3"
  },
  "language_info": {
   "codemirror_mode": {
    "name": "ipython",
    "version": 3
   },
   "file_extension": ".py",
   "mimetype": "text/x-python",
   "name": "python",
   "nbconvert_exporter": "python",
   "pygments_lexer": "ipython3",
   "version": "3.9.7"
  }
 },
 "nbformat": 4,
 "nbformat_minor": 5
}
