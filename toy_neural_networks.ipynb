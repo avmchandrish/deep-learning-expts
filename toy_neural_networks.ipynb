{
 "cells": [
  {
   "cell_type": "markdown",
   "id": "3a7b4227",
   "metadata": {},
   "source": [
    "This will contain neural networks from the basic neural networks (convolutional and simple)"
   ]
  },
  {
   "cell_type": "code",
   "execution_count": null,
   "id": "e4a62400",
   "metadata": {},
   "outputs": [],
   "source": []
  }
 ],
 "metadata": {
  "kernelspec": {
   "display_name": "Python 3 (ipykernel)",
   "language": "python",
   "name": "python3"
  },
  "language_info": {
   "codemirror_mode": {
    "name": "ipython",
    "version": 3
   },
   "file_extension": ".py",
   "mimetype": "text/x-python",
   "name": "python",
   "nbconvert_exporter": "python",
   "pygments_lexer": "ipython3",
   "version": "3.9.7"
  }
 },
 "nbformat": 4,
 "nbformat_minor": 5
}
