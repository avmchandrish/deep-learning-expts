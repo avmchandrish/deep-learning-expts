{
 "cells": [
  {
   "cell_type": "markdown",
   "id": "8336cb49",
   "metadata": {},
   "source": [
    "Data Augmentations using Albumentations and imgaug"
   ]
  },
  {
   "cell_type": "code",
   "execution_count": null,
   "id": "e269885d",
   "metadata": {},
   "outputs": [],
   "source": []
  },
  {
   "cell_type": "code",
   "execution_count": null,
   "id": "183a01de",
   "metadata": {},
   "outputs": [],
   "source": []
  },
  {
   "cell_type": "markdown",
   "id": "c77e35b2",
   "metadata": {},
   "source": [
    "Do try all the augmentations mentioned in the SimCLR paper"
   ]
  },
  {
   "cell_type": "code",
   "execution_count": null,
   "id": "51f2bb9d",
   "metadata": {},
   "outputs": [],
   "source": []
  }
 ],
 "metadata": {
  "kernelspec": {
   "display_name": "Python 3 (ipykernel)",
   "language": "python",
   "name": "python3"
  },
  "language_info": {
   "codemirror_mode": {
    "name": "ipython",
    "version": 3
   },
   "file_extension": ".py",
   "mimetype": "text/x-python",
   "name": "python",
   "nbconvert_exporter": "python",
   "pygments_lexer": "ipython3",
   "version": "3.9.7"
  }
 },
 "nbformat": 4,
 "nbformat_minor": 5
}
